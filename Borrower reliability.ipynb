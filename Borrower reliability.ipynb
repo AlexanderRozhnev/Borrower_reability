{
 "cells": [
  {
   "cell_type": "markdown",
   "id": "386f2ae7",
   "metadata": {
    "deletable": false,
    "editable": false,
    "id": "386f2ae7"
   },
   "source": [
    "# Исследование надежности заемщиков\n"
   ]
  },
  {
   "cell_type": "markdown",
   "id": "ffe86f65",
   "metadata": {
    "deletable": false,
    "editable": false,
    "id": "ffe86f65"
   },
   "source": [
    "**Описание проекта**  \n",
    "\n",
    "Заказчик — кредитный отдел банка. Нужно разобраться, влияет ли семейное положение и количество детей клиента на факт погашения кредита в срок. Входные данные от банка — статистика о платёжеспособности клиентов.\n",
    "Результаты исследования будут учтены при построении модели кредитного скоринга — специальной системы, которая оценивает способность потенциального заёмщика вернуть кредит банку.  \n"
   ]
  },
  {
   "cell_type": "markdown",
   "metadata": {},
   "source": [
    "**Описание данных**  \n",
    "\n",
    "`children` — количество детей в семье  \n",
    "`days_employed` — общий трудовой стаж в днях  \n",
    "`dob_years` — возраст клиента в годах  \n",
    "`education` — уровень образования клиента  \n",
    "`education_id` — идентификатор уровня образования  \n",
    "`family_status` — семейное положение   \n",
    "`family_status_id` — идентификатор семейного положения  \n",
    "`gender` — пол клиента  \n",
    "`income_type` — тип занятости  \n",
    "`debt` — имел ли задолженность по возврату кредитов  \n",
    "`total_income` — ежемесячный доход  \n",
    "`purpose` — цель получения кредита"
   ]
  },
  {
   "cell_type": "markdown",
   "id": "26613308",
   "metadata": {
    "deletable": false,
    "editable": false,
    "id": "26613308"
   },
   "source": [
    "## Откройте таблицу и изучите общую информацию о данных"
   ]
  },
  {
   "cell_type": "markdown",
   "id": "3c9f838e",
   "metadata": {
    "deletable": false,
    "editable": false,
    "id": "3c9f838e"
   },
   "source": [
    "**Задание 1. Импортируйте библиотеки pandas. Чтение данные из csv-файла в датафрейм.**"
   ]
  },
  {
   "cell_type": "code",
   "execution_count": 1,
   "id": "77a68a90",
   "metadata": {
    "deletable": false,
    "id": "77a68a90"
   },
   "outputs": [],
   "source": [
    "import pandas as pd\n",
    "\n",
    "try:\n",
    "    data = pd.read_csv('/datasets/data.csv')\n",
    "except:\n",
    "    data = pd.read_csv('https://code.s3.yandex.net/datasets/data.csv')"
   ]
  },
  {
   "cell_type": "markdown",
   "id": "45365635",
   "metadata": {
    "deletable": false,
    "editable": false,
    "id": "45365635"
   },
   "source": [
    "**Задание 2. Первые 20 строчек датафрейма `data` на экран.**"
   ]
  },
  {
   "cell_type": "code",
   "execution_count": 2,
   "id": "b0451a9a",
   "metadata": {
    "deletable": false,
    "id": "b0451a9a",
    "outputId": "1a8f3ef2-d323-4ec2-ddf7-89670b5944c4"
   },
   "outputs": [
    {
     "data": {
      "text/html": [
       "<div>\n",
       "<style scoped>\n",
       "    .dataframe tbody tr th:only-of-type {\n",
       "        vertical-align: middle;\n",
       "    }\n",
       "\n",
       "    .dataframe tbody tr th {\n",
       "        vertical-align: top;\n",
       "    }\n",
       "\n",
       "    .dataframe thead th {\n",
       "        text-align: right;\n",
       "    }\n",
       "</style>\n",
       "<table border=\"1\" class=\"dataframe\">\n",
       "  <thead>\n",
       "    <tr style=\"text-align: right;\">\n",
       "      <th></th>\n",
       "      <th>children</th>\n",
       "      <th>days_employed</th>\n",
       "      <th>dob_years</th>\n",
       "      <th>education</th>\n",
       "      <th>education_id</th>\n",
       "      <th>family_status</th>\n",
       "      <th>family_status_id</th>\n",
       "      <th>gender</th>\n",
       "      <th>income_type</th>\n",
       "      <th>debt</th>\n",
       "      <th>total_income</th>\n",
       "      <th>purpose</th>\n",
       "    </tr>\n",
       "  </thead>\n",
       "  <tbody>\n",
       "    <tr>\n",
       "      <th>0</th>\n",
       "      <td>1</td>\n",
       "      <td>-8437.673028</td>\n",
       "      <td>42</td>\n",
       "      <td>высшее</td>\n",
       "      <td>0</td>\n",
       "      <td>женат / замужем</td>\n",
       "      <td>0</td>\n",
       "      <td>F</td>\n",
       "      <td>сотрудник</td>\n",
       "      <td>0</td>\n",
       "      <td>253875.639453</td>\n",
       "      <td>покупка жилья</td>\n",
       "    </tr>\n",
       "    <tr>\n",
       "      <th>1</th>\n",
       "      <td>1</td>\n",
       "      <td>-4024.803754</td>\n",
       "      <td>36</td>\n",
       "      <td>среднее</td>\n",
       "      <td>1</td>\n",
       "      <td>женат / замужем</td>\n",
       "      <td>0</td>\n",
       "      <td>F</td>\n",
       "      <td>сотрудник</td>\n",
       "      <td>0</td>\n",
       "      <td>112080.014102</td>\n",
       "      <td>приобретение автомобиля</td>\n",
       "    </tr>\n",
       "    <tr>\n",
       "      <th>2</th>\n",
       "      <td>0</td>\n",
       "      <td>-5623.422610</td>\n",
       "      <td>33</td>\n",
       "      <td>Среднее</td>\n",
       "      <td>1</td>\n",
       "      <td>женат / замужем</td>\n",
       "      <td>0</td>\n",
       "      <td>M</td>\n",
       "      <td>сотрудник</td>\n",
       "      <td>0</td>\n",
       "      <td>145885.952297</td>\n",
       "      <td>покупка жилья</td>\n",
       "    </tr>\n",
       "    <tr>\n",
       "      <th>3</th>\n",
       "      <td>3</td>\n",
       "      <td>-4124.747207</td>\n",
       "      <td>32</td>\n",
       "      <td>среднее</td>\n",
       "      <td>1</td>\n",
       "      <td>женат / замужем</td>\n",
       "      <td>0</td>\n",
       "      <td>M</td>\n",
       "      <td>сотрудник</td>\n",
       "      <td>0</td>\n",
       "      <td>267628.550329</td>\n",
       "      <td>дополнительное образование</td>\n",
       "    </tr>\n",
       "    <tr>\n",
       "      <th>4</th>\n",
       "      <td>0</td>\n",
       "      <td>340266.072047</td>\n",
       "      <td>53</td>\n",
       "      <td>среднее</td>\n",
       "      <td>1</td>\n",
       "      <td>гражданский брак</td>\n",
       "      <td>1</td>\n",
       "      <td>F</td>\n",
       "      <td>пенсионер</td>\n",
       "      <td>0</td>\n",
       "      <td>158616.077870</td>\n",
       "      <td>сыграть свадьбу</td>\n",
       "    </tr>\n",
       "    <tr>\n",
       "      <th>5</th>\n",
       "      <td>0</td>\n",
       "      <td>-926.185831</td>\n",
       "      <td>27</td>\n",
       "      <td>высшее</td>\n",
       "      <td>0</td>\n",
       "      <td>гражданский брак</td>\n",
       "      <td>1</td>\n",
       "      <td>M</td>\n",
       "      <td>компаньон</td>\n",
       "      <td>0</td>\n",
       "      <td>255763.565419</td>\n",
       "      <td>покупка жилья</td>\n",
       "    </tr>\n",
       "    <tr>\n",
       "      <th>6</th>\n",
       "      <td>0</td>\n",
       "      <td>-2879.202052</td>\n",
       "      <td>43</td>\n",
       "      <td>высшее</td>\n",
       "      <td>0</td>\n",
       "      <td>женат / замужем</td>\n",
       "      <td>0</td>\n",
       "      <td>F</td>\n",
       "      <td>компаньон</td>\n",
       "      <td>0</td>\n",
       "      <td>240525.971920</td>\n",
       "      <td>операции с жильем</td>\n",
       "    </tr>\n",
       "    <tr>\n",
       "      <th>7</th>\n",
       "      <td>0</td>\n",
       "      <td>-152.779569</td>\n",
       "      <td>50</td>\n",
       "      <td>СРЕДНЕЕ</td>\n",
       "      <td>1</td>\n",
       "      <td>женат / замужем</td>\n",
       "      <td>0</td>\n",
       "      <td>M</td>\n",
       "      <td>сотрудник</td>\n",
       "      <td>0</td>\n",
       "      <td>135823.934197</td>\n",
       "      <td>образование</td>\n",
       "    </tr>\n",
       "    <tr>\n",
       "      <th>8</th>\n",
       "      <td>2</td>\n",
       "      <td>-6929.865299</td>\n",
       "      <td>35</td>\n",
       "      <td>ВЫСШЕЕ</td>\n",
       "      <td>0</td>\n",
       "      <td>гражданский брак</td>\n",
       "      <td>1</td>\n",
       "      <td>F</td>\n",
       "      <td>сотрудник</td>\n",
       "      <td>0</td>\n",
       "      <td>95856.832424</td>\n",
       "      <td>на проведение свадьбы</td>\n",
       "    </tr>\n",
       "    <tr>\n",
       "      <th>9</th>\n",
       "      <td>0</td>\n",
       "      <td>-2188.756445</td>\n",
       "      <td>41</td>\n",
       "      <td>среднее</td>\n",
       "      <td>1</td>\n",
       "      <td>женат / замужем</td>\n",
       "      <td>0</td>\n",
       "      <td>M</td>\n",
       "      <td>сотрудник</td>\n",
       "      <td>0</td>\n",
       "      <td>144425.938277</td>\n",
       "      <td>покупка жилья для семьи</td>\n",
       "    </tr>\n",
       "    <tr>\n",
       "      <th>10</th>\n",
       "      <td>2</td>\n",
       "      <td>-4171.483647</td>\n",
       "      <td>36</td>\n",
       "      <td>высшее</td>\n",
       "      <td>0</td>\n",
       "      <td>женат / замужем</td>\n",
       "      <td>0</td>\n",
       "      <td>M</td>\n",
       "      <td>компаньон</td>\n",
       "      <td>0</td>\n",
       "      <td>113943.491460</td>\n",
       "      <td>покупка недвижимости</td>\n",
       "    </tr>\n",
       "    <tr>\n",
       "      <th>11</th>\n",
       "      <td>0</td>\n",
       "      <td>-792.701887</td>\n",
       "      <td>40</td>\n",
       "      <td>среднее</td>\n",
       "      <td>1</td>\n",
       "      <td>женат / замужем</td>\n",
       "      <td>0</td>\n",
       "      <td>F</td>\n",
       "      <td>сотрудник</td>\n",
       "      <td>0</td>\n",
       "      <td>77069.234271</td>\n",
       "      <td>покупка коммерческой недвижимости</td>\n",
       "    </tr>\n",
       "    <tr>\n",
       "      <th>12</th>\n",
       "      <td>0</td>\n",
       "      <td>NaN</td>\n",
       "      <td>65</td>\n",
       "      <td>среднее</td>\n",
       "      <td>1</td>\n",
       "      <td>гражданский брак</td>\n",
       "      <td>1</td>\n",
       "      <td>M</td>\n",
       "      <td>пенсионер</td>\n",
       "      <td>0</td>\n",
       "      <td>NaN</td>\n",
       "      <td>сыграть свадьбу</td>\n",
       "    </tr>\n",
       "    <tr>\n",
       "      <th>13</th>\n",
       "      <td>0</td>\n",
       "      <td>-1846.641941</td>\n",
       "      <td>54</td>\n",
       "      <td>неоконченное высшее</td>\n",
       "      <td>2</td>\n",
       "      <td>женат / замужем</td>\n",
       "      <td>0</td>\n",
       "      <td>F</td>\n",
       "      <td>сотрудник</td>\n",
       "      <td>0</td>\n",
       "      <td>130458.228857</td>\n",
       "      <td>приобретение автомобиля</td>\n",
       "    </tr>\n",
       "    <tr>\n",
       "      <th>14</th>\n",
       "      <td>0</td>\n",
       "      <td>-1844.956182</td>\n",
       "      <td>56</td>\n",
       "      <td>высшее</td>\n",
       "      <td>0</td>\n",
       "      <td>гражданский брак</td>\n",
       "      <td>1</td>\n",
       "      <td>F</td>\n",
       "      <td>компаньон</td>\n",
       "      <td>1</td>\n",
       "      <td>165127.911772</td>\n",
       "      <td>покупка жилой недвижимости</td>\n",
       "    </tr>\n",
       "    <tr>\n",
       "      <th>15</th>\n",
       "      <td>1</td>\n",
       "      <td>-972.364419</td>\n",
       "      <td>26</td>\n",
       "      <td>среднее</td>\n",
       "      <td>1</td>\n",
       "      <td>женат / замужем</td>\n",
       "      <td>0</td>\n",
       "      <td>F</td>\n",
       "      <td>сотрудник</td>\n",
       "      <td>0</td>\n",
       "      <td>116820.904450</td>\n",
       "      <td>строительство собственной недвижимости</td>\n",
       "    </tr>\n",
       "    <tr>\n",
       "      <th>16</th>\n",
       "      <td>0</td>\n",
       "      <td>-1719.934226</td>\n",
       "      <td>35</td>\n",
       "      <td>среднее</td>\n",
       "      <td>1</td>\n",
       "      <td>женат / замужем</td>\n",
       "      <td>0</td>\n",
       "      <td>F</td>\n",
       "      <td>сотрудник</td>\n",
       "      <td>0</td>\n",
       "      <td>289202.704229</td>\n",
       "      <td>недвижимость</td>\n",
       "    </tr>\n",
       "    <tr>\n",
       "      <th>17</th>\n",
       "      <td>0</td>\n",
       "      <td>-2369.999720</td>\n",
       "      <td>33</td>\n",
       "      <td>высшее</td>\n",
       "      <td>0</td>\n",
       "      <td>гражданский брак</td>\n",
       "      <td>1</td>\n",
       "      <td>M</td>\n",
       "      <td>сотрудник</td>\n",
       "      <td>0</td>\n",
       "      <td>90410.586745</td>\n",
       "      <td>строительство недвижимости</td>\n",
       "    </tr>\n",
       "    <tr>\n",
       "      <th>18</th>\n",
       "      <td>0</td>\n",
       "      <td>400281.136913</td>\n",
       "      <td>53</td>\n",
       "      <td>среднее</td>\n",
       "      <td>1</td>\n",
       "      <td>вдовец / вдова</td>\n",
       "      <td>2</td>\n",
       "      <td>F</td>\n",
       "      <td>пенсионер</td>\n",
       "      <td>0</td>\n",
       "      <td>56823.777243</td>\n",
       "      <td>на покупку подержанного автомобиля</td>\n",
       "    </tr>\n",
       "    <tr>\n",
       "      <th>19</th>\n",
       "      <td>0</td>\n",
       "      <td>-10038.818549</td>\n",
       "      <td>48</td>\n",
       "      <td>СРЕДНЕЕ</td>\n",
       "      <td>1</td>\n",
       "      <td>в разводе</td>\n",
       "      <td>3</td>\n",
       "      <td>F</td>\n",
       "      <td>сотрудник</td>\n",
       "      <td>0</td>\n",
       "      <td>242831.107982</td>\n",
       "      <td>на покупку своего автомобиля</td>\n",
       "    </tr>\n",
       "  </tbody>\n",
       "</table>\n",
       "</div>"
      ],
      "text/plain": [
       "    children  days_employed  dob_years            education  education_id  \\\n",
       "0          1   -8437.673028         42               высшее             0   \n",
       "1          1   -4024.803754         36              среднее             1   \n",
       "2          0   -5623.422610         33              Среднее             1   \n",
       "3          3   -4124.747207         32              среднее             1   \n",
       "4          0  340266.072047         53              среднее             1   \n",
       "5          0    -926.185831         27               высшее             0   \n",
       "6          0   -2879.202052         43               высшее             0   \n",
       "7          0    -152.779569         50              СРЕДНЕЕ             1   \n",
       "8          2   -6929.865299         35               ВЫСШЕЕ             0   \n",
       "9          0   -2188.756445         41              среднее             1   \n",
       "10         2   -4171.483647         36               высшее             0   \n",
       "11         0    -792.701887         40              среднее             1   \n",
       "12         0            NaN         65              среднее             1   \n",
       "13         0   -1846.641941         54  неоконченное высшее             2   \n",
       "14         0   -1844.956182         56               высшее             0   \n",
       "15         1    -972.364419         26              среднее             1   \n",
       "16         0   -1719.934226         35              среднее             1   \n",
       "17         0   -2369.999720         33               высшее             0   \n",
       "18         0  400281.136913         53              среднее             1   \n",
       "19         0  -10038.818549         48              СРЕДНЕЕ             1   \n",
       "\n",
       "       family_status  family_status_id gender income_type  debt  \\\n",
       "0    женат / замужем                 0      F   сотрудник     0   \n",
       "1    женат / замужем                 0      F   сотрудник     0   \n",
       "2    женат / замужем                 0      M   сотрудник     0   \n",
       "3    женат / замужем                 0      M   сотрудник     0   \n",
       "4   гражданский брак                 1      F   пенсионер     0   \n",
       "5   гражданский брак                 1      M   компаньон     0   \n",
       "6    женат / замужем                 0      F   компаньон     0   \n",
       "7    женат / замужем                 0      M   сотрудник     0   \n",
       "8   гражданский брак                 1      F   сотрудник     0   \n",
       "9    женат / замужем                 0      M   сотрудник     0   \n",
       "10   женат / замужем                 0      M   компаньон     0   \n",
       "11   женат / замужем                 0      F   сотрудник     0   \n",
       "12  гражданский брак                 1      M   пенсионер     0   \n",
       "13   женат / замужем                 0      F   сотрудник     0   \n",
       "14  гражданский брак                 1      F   компаньон     1   \n",
       "15   женат / замужем                 0      F   сотрудник     0   \n",
       "16   женат / замужем                 0      F   сотрудник     0   \n",
       "17  гражданский брак                 1      M   сотрудник     0   \n",
       "18    вдовец / вдова                 2      F   пенсионер     0   \n",
       "19         в разводе                 3      F   сотрудник     0   \n",
       "\n",
       "     total_income                                 purpose  \n",
       "0   253875.639453                           покупка жилья  \n",
       "1   112080.014102                 приобретение автомобиля  \n",
       "2   145885.952297                           покупка жилья  \n",
       "3   267628.550329              дополнительное образование  \n",
       "4   158616.077870                         сыграть свадьбу  \n",
       "5   255763.565419                           покупка жилья  \n",
       "6   240525.971920                       операции с жильем  \n",
       "7   135823.934197                             образование  \n",
       "8    95856.832424                   на проведение свадьбы  \n",
       "9   144425.938277                 покупка жилья для семьи  \n",
       "10  113943.491460                    покупка недвижимости  \n",
       "11   77069.234271       покупка коммерческой недвижимости  \n",
       "12            NaN                         сыграть свадьбу  \n",
       "13  130458.228857                 приобретение автомобиля  \n",
       "14  165127.911772              покупка жилой недвижимости  \n",
       "15  116820.904450  строительство собственной недвижимости  \n",
       "16  289202.704229                            недвижимость  \n",
       "17   90410.586745              строительство недвижимости  \n",
       "18   56823.777243      на покупку подержанного автомобиля  \n",
       "19  242831.107982            на покупку своего автомобиля  "
      ]
     },
     "execution_count": 2,
     "metadata": {},
     "output_type": "execute_result"
    }
   ],
   "source": [
    "data.head(20)"
   ]
  },
  {
   "cell_type": "markdown",
   "id": "0ed8f27f",
   "metadata": {
    "deletable": false,
    "editable": false,
    "id": "0ed8f27f"
   },
   "source": [
    "**Задание 3. Выведите основную информацию о датафрейме с помощью метода `info()`.**"
   ]
  },
  {
   "cell_type": "code",
   "execution_count": 3,
   "id": "ab3f863b",
   "metadata": {
    "deletable": false,
    "id": "ab3f863b",
    "outputId": "15376089-8dad-46c9-b520-c05248d43158"
   },
   "outputs": [
    {
     "name": "stdout",
     "output_type": "stream",
     "text": [
      "<class 'pandas.core.frame.DataFrame'>\n",
      "RangeIndex: 21525 entries, 0 to 21524\n",
      "Data columns (total 12 columns):\n",
      " #   Column            Non-Null Count  Dtype  \n",
      "---  ------            --------------  -----  \n",
      " 0   children          21525 non-null  int64  \n",
      " 1   days_employed     19351 non-null  float64\n",
      " 2   dob_years         21525 non-null  int64  \n",
      " 3   education         21525 non-null  object \n",
      " 4   education_id      21525 non-null  int64  \n",
      " 5   family_status     21525 non-null  object \n",
      " 6   family_status_id  21525 non-null  int64  \n",
      " 7   gender            21525 non-null  object \n",
      " 8   income_type       21525 non-null  object \n",
      " 9   debt              21525 non-null  int64  \n",
      " 10  total_income      19351 non-null  float64\n",
      " 11  purpose           21525 non-null  object \n",
      "dtypes: float64(2), int64(5), object(5)\n",
      "memory usage: 2.0+ MB\n"
     ]
    }
   ],
   "source": [
    "data.info()"
   ]
  },
  {
   "cell_type": "markdown",
   "id": "60e3e22d",
   "metadata": {
    "deletable": false,
    "editable": false,
    "id": "60e3e22d"
   },
   "source": [
    "## Предобработка данных"
   ]
  },
  {
   "cell_type": "markdown",
   "id": "03dc170c",
   "metadata": {
    "deletable": false,
    "editable": false,
    "id": "03dc170c"
   },
   "source": [
    "### Удаление пропусков"
   ]
  },
  {
   "cell_type": "markdown",
   "id": "a4f54eef",
   "metadata": {
    "deletable": false,
    "editable": false,
    "id": "a4f54eef"
   },
   "source": [
    "**Задание 4. Выведите количество пропущенных значений для каждого столбца. Используйте комбинацию двух методов.**"
   ]
  },
  {
   "cell_type": "code",
   "execution_count": 4,
   "id": "2dc372b2",
   "metadata": {
    "deletable": false,
    "id": "2dc372b2",
    "outputId": "81f4d817-781c-465c-ed15-91ce4446810d"
   },
   "outputs": [
    {
     "data": {
      "text/plain": [
       "children               0\n",
       "days_employed       2174\n",
       "dob_years              0\n",
       "education              0\n",
       "education_id           0\n",
       "family_status          0\n",
       "family_status_id       0\n",
       "gender                 0\n",
       "income_type            0\n",
       "debt                   0\n",
       "total_income        2174\n",
       "purpose                0\n",
       "dtype: int64"
      ]
     },
     "execution_count": 4,
     "metadata": {},
     "output_type": "execute_result"
    }
   ],
   "source": [
    "data.isna().sum()"
   ]
  },
  {
   "cell_type": "markdown",
   "id": "14f011b1",
   "metadata": {
    "deletable": false,
    "editable": false,
    "id": "14f011b1"
   },
   "source": [
    "**Задание 5. В двух столбцах есть пропущенные значения. Один из них — `days_employed`. Пропуски в этом столбце вы обработаете на следующем этапе. Другой столбец с пропущенными значениями — `total_income` — хранит данные о доходах. На сумму дохода сильнее всего влияет тип занятости, поэтому заполнить пропуски в этом столбце нужно медианным значением по каждому типу из столбца `income_type`. Например, у человека с типом занятости `сотрудник` пропуск в столбце `total_income` должен быть заполнен медианным доходом среди всех записей с тем же типом.**"
   ]
  },
  {
   "cell_type": "code",
   "execution_count": 5,
   "id": "bdabfb6e",
   "metadata": {
    "deletable": false,
    "id": "bdabfb6e"
   },
   "outputs": [],
   "source": [
    "for t in data['income_type'].unique():\n",
    "    data.loc[(data['income_type'] == t) & (data['total_income'].isna()), 'total_income'] = \\\n",
    "    data.loc[(data['income_type'] == t), 'total_income'].median()"
   ]
  },
  {
   "cell_type": "markdown",
   "id": "5be34059",
   "metadata": {
    "deletable": false,
    "editable": false,
    "id": "5be34059"
   },
   "source": [
    "### Обработка аномальных значений"
   ]
  },
  {
   "cell_type": "markdown",
   "id": "a87606cb",
   "metadata": {
    "deletable": false,
    "editable": false,
    "id": "a87606cb"
   },
   "source": [
    "**Задание 6. В данных могут встречаться артефакты (аномалии) — значения, которые не отражают действительность и появились по какой-то ошибке. таким артефактом будет отрицательное количество дней трудового стажа в столбце `days_employed`. Для реальных данных это нормально. Обработайте значения в этом столбце: замените все отрицательные значения положительными с помощью метода `abs()`.**"
   ]
  },
  {
   "cell_type": "code",
   "execution_count": 6,
   "id": "020c46cc",
   "metadata": {
    "deletable": false,
    "id": "020c46cc"
   },
   "outputs": [],
   "source": [
    "data['days_employed'] = data['days_employed'].abs()"
   ]
  },
  {
   "cell_type": "markdown",
   "id": "45538a3a",
   "metadata": {
    "deletable": false,
    "editable": false,
    "id": "45538a3a"
   },
   "source": [
    "**Задание 7. Для каждого типа занятости выведите медианное значение трудового стажа `days_employed` в днях.**"
   ]
  },
  {
   "cell_type": "code",
   "execution_count": 7,
   "id": "cd3e6328",
   "metadata": {
    "deletable": false,
    "id": "cd3e6328",
    "outputId": "801ef80e-522b-4668-f34e-565af7432bcf"
   },
   "outputs": [
    {
     "data": {
      "text/plain": [
       "income_type\n",
       "безработный        366413.652744\n",
       "в декрете            3296.759962\n",
       "госслужащий          2689.368353\n",
       "компаньон            1547.382223\n",
       "пенсионер          365213.306266\n",
       "предприниматель       520.848083\n",
       "сотрудник            1574.202821\n",
       "студент               578.751554\n",
       "Name: days_employed, dtype: float64"
      ]
     },
     "execution_count": 7,
     "metadata": {},
     "output_type": "execute_result"
    }
   ],
   "source": [
    "data.groupby('income_type')['days_employed'].agg('median')"
   ]
  },
  {
   "cell_type": "markdown",
   "id": "90c5f058",
   "metadata": {
    "deletable": false,
    "editable": false,
    "id": "90c5f058"
   },
   "source": [
    "У двух типов (безработные и пенсионеры) получатся аномально большие значения. Исправить такие значения сложно, поэтому оставьте их как есть."
   ]
  },
  {
   "cell_type": "markdown",
   "id": "9652e50d",
   "metadata": {
    "deletable": false,
    "editable": false,
    "id": "9652e50d"
   },
   "source": [
    "**Задание 8. Выведите перечень уникальных значений столбца `children`.**"
   ]
  },
  {
   "cell_type": "code",
   "execution_count": 8,
   "id": "dbb37b8e",
   "metadata": {
    "deletable": false,
    "id": "dbb37b8e",
    "outputId": "6975b15c-7f95-4697-d16d-a0c79b657b03"
   },
   "outputs": [
    {
     "data": {
      "text/plain": [
       "array([ 1,  0,  3,  2, -1,  4, 20,  5])"
      ]
     },
     "execution_count": 8,
     "metadata": {},
     "output_type": "execute_result"
    }
   ],
   "source": [
    "data['children'].unique()"
   ]
  },
  {
   "cell_type": "markdown",
   "id": "2b8b0715",
   "metadata": {
    "deletable": false,
    "editable": false,
    "id": "2b8b0715"
   },
   "source": [
    "**Задание 9. В столбце `children` есть два аномальных значения. Удалите строки, в которых встречаются такие аномальные значения из датафрейма `data`.**"
   ]
  },
  {
   "cell_type": "code",
   "execution_count": 9,
   "id": "20009df8",
   "metadata": {
    "deletable": false,
    "id": "20009df8"
   },
   "outputs": [],
   "source": [
    "data = data[(data['children'] != -1) & (data['children'] != 20)]"
   ]
  },
  {
   "cell_type": "markdown",
   "id": "8c6ac9f1",
   "metadata": {
    "deletable": false,
    "editable": false,
    "id": "8c6ac9f1"
   },
   "source": [
    "**Задание 10. Ещё раз выведите перечень уникальных значений столбца `children`, чтобы убедиться, что артефакты удалены.**"
   ]
  },
  {
   "cell_type": "code",
   "execution_count": 10,
   "id": "07337b81",
   "metadata": {
    "deletable": false,
    "id": "07337b81",
    "outputId": "b2097101-d49d-44d9-901b-32a65c9463d1"
   },
   "outputs": [
    {
     "data": {
      "text/plain": [
       "array([1, 0, 3, 2, 4, 5])"
      ]
     },
     "execution_count": 10,
     "metadata": {},
     "output_type": "execute_result"
    }
   ],
   "source": [
    "data['children'].unique()"
   ]
  },
  {
   "cell_type": "markdown",
   "id": "ee3f52d4",
   "metadata": {
    "deletable": false,
    "editable": false,
    "id": "ee3f52d4"
   },
   "source": [
    "### Удаление пропусков (продолжение)"
   ]
  },
  {
   "cell_type": "markdown",
   "id": "a700b0e4",
   "metadata": {
    "deletable": false,
    "editable": false,
    "id": "a700b0e4"
   },
   "source": [
    "**Задание 11. Заполните пропуски в столбце `days_employed` медианными значениями по каждого типа занятости `income_type`.**"
   ]
  },
  {
   "cell_type": "code",
   "execution_count": 11,
   "id": "61946b83",
   "metadata": {
    "deletable": false,
    "id": "61946b83"
   },
   "outputs": [],
   "source": [
    "for t in data['income_type'].unique():\n",
    "    data.loc[(data['income_type'] == t) & (data['days_employed'].isna()), 'days_employed'] = \\\n",
    "    data.loc[(data['income_type'] == t), 'days_employed'].median()"
   ]
  },
  {
   "cell_type": "markdown",
   "id": "550dcd9b",
   "metadata": {
    "deletable": false,
    "editable": false,
    "id": "550dcd9b"
   },
   "source": [
    "**Задание 12. Убедитесь, что все пропуски заполнены. Проверьте себя и ещё раз выведите количество пропущенных значений для каждого столбца с помощью двух методов.**"
   ]
  },
  {
   "cell_type": "code",
   "execution_count": 12,
   "id": "937c7014",
   "metadata": {
    "deletable": false,
    "id": "937c7014",
    "outputId": "8da1e4e1-358e-4e87-98c9-f261bce0a7b2"
   },
   "outputs": [
    {
     "data": {
      "text/plain": [
       "children            0\n",
       "days_employed       0\n",
       "dob_years           0\n",
       "education           0\n",
       "education_id        0\n",
       "family_status       0\n",
       "family_status_id    0\n",
       "gender              0\n",
       "income_type         0\n",
       "debt                0\n",
       "total_income        0\n",
       "purpose             0\n",
       "dtype: int64"
      ]
     },
     "execution_count": 12,
     "metadata": {},
     "output_type": "execute_result"
    }
   ],
   "source": [
    "data.isna().sum()"
   ]
  },
  {
   "cell_type": "markdown",
   "id": "d522e295",
   "metadata": {
    "deletable": false,
    "editable": false,
    "id": "d522e295"
   },
   "source": [
    "### Изменение типов данных"
   ]
  },
  {
   "cell_type": "markdown",
   "id": "c229c581",
   "metadata": {
    "deletable": false,
    "editable": false,
    "id": "c229c581"
   },
   "source": [
    "**Задание 13. Замените вещественный тип данных в столбце `total_income` на целочисленный с помощью метода `astype()`.**"
   ]
  },
  {
   "cell_type": "code",
   "execution_count": 13,
   "id": "31036462",
   "metadata": {
    "deletable": false,
    "id": "31036462"
   },
   "outputs": [],
   "source": [
    "data['total_income'] = data['total_income'].astype(int)"
   ]
  },
  {
   "cell_type": "markdown",
   "id": "b8e3d1d9",
   "metadata": {
    "deletable": false,
    "editable": false,
    "id": "b8e3d1d9"
   },
   "source": [
    "### Обработка дубликатов"
   ]
  },
  {
   "cell_type": "markdown",
   "id": "9be53c49",
   "metadata": {
    "deletable": false,
    "editable": false,
    "id": "9be53c49"
   },
   "source": [
    "**Задание 14. Обработайте неявные дубликаты в столбце `education`. В этом столбце есть одни и те же значения, но записанные по-разному: с использованием заглавных и строчных букв. Приведите их к нижнему регистру.**"
   ]
  },
  {
   "cell_type": "code",
   "execution_count": 14,
   "id": "d89e73e1",
   "metadata": {
    "deletable": false,
    "id": "d89e73e1"
   },
   "outputs": [],
   "source": [
    "data['education'] = data['education'].str.lower()"
   ]
  },
  {
   "cell_type": "markdown",
   "id": "01d4500e",
   "metadata": {
    "deletable": false,
    "editable": false,
    "id": "01d4500e"
   },
   "source": [
    "**Задание 15. Выведите на экран количество строк-дубликатов в данных. Если такие строки присутствуют, удалите их.**"
   ]
  },
  {
   "cell_type": "code",
   "execution_count": 15,
   "id": "e10efb23",
   "metadata": {
    "deletable": false,
    "id": "e10efb23",
    "outputId": "9684deba-1934-42d1-99e1-cda61740f822"
   },
   "outputs": [
    {
     "data": {
      "text/plain": [
       "71"
      ]
     },
     "execution_count": 15,
     "metadata": {},
     "output_type": "execute_result"
    }
   ],
   "source": [
    "data.duplicated().sum()"
   ]
  },
  {
   "cell_type": "code",
   "execution_count": 16,
   "id": "df853f20",
   "metadata": {
    "deletable": false,
    "id": "df853f20"
   },
   "outputs": [],
   "source": [
    "data = data.drop_duplicates()"
   ]
  },
  {
   "cell_type": "markdown",
   "id": "627be38f",
   "metadata": {
    "deletable": false,
    "editable": false,
    "id": "627be38f"
   },
   "source": [
    "### Категоризация данных"
   ]
  },
  {
   "cell_type": "markdown",
   "id": "4684c3e0",
   "metadata": {
    "deletable": false,
    "editable": false,
    "id": "4684c3e0"
   },
   "source": [
    "**Задание 16. На основании диапазонов, указанных ниже, создайте в датафрейме `data` столбец `total_income_category` с категориями:**\n",
    "\n",
    "- 0–30000 — `'E'`;\n",
    "- 30001–50000 — `'D'`;\n",
    "- 50001–200000 — `'C'`;\n",
    "- 200001–1000000 — `'B'`;\n",
    "- 1000001 и выше — `'A'`.\n",
    "\n",
    "\n",
    "**Например, кредитополучателю с доходом 25000 нужно назначить категорию `'E'`, а клиенту, получающему 235000, — `'B'`. Используйте собственную функцию с именем `categorize_income()` и метод `apply()`.**"
   ]
  },
  {
   "cell_type": "code",
   "execution_count": 17,
   "id": "78965238",
   "metadata": {
    "deletable": false,
    "id": "78965238"
   },
   "outputs": [],
   "source": [
    "def categorize_income(income):\n",
    "    try:\n",
    "        if 0 <= income <= 30000:\n",
    "            return 'E'\n",
    "        elif 30001 <= income <= 50000:\n",
    "            return 'D'\n",
    "        elif 50001 <= income <= 200000:\n",
    "            return 'C'\n",
    "        elif 200001 <= income <= 1000000:\n",
    "            return 'B'\n",
    "        elif income >= 1000001:\n",
    "            return 'A'\n",
    "    except:\n",
    "        pass"
   ]
  },
  {
   "cell_type": "code",
   "execution_count": 18,
   "id": "0980ada1",
   "metadata": {
    "deletable": false,
    "id": "0980ada1"
   },
   "outputs": [],
   "source": [
    "data['total_income_category'] = data['total_income'].apply(categorize_income)"
   ]
  },
  {
   "cell_type": "markdown",
   "id": "9917bba0",
   "metadata": {
    "deletable": false,
    "editable": false,
    "id": "9917bba0"
   },
   "source": [
    "**Задание 17. Выведите на экран перечень уникальных целей взятия кредита из столбца `purpose`.**"
   ]
  },
  {
   "cell_type": "code",
   "execution_count": 19,
   "id": "ee07b65e",
   "metadata": {
    "deletable": false,
    "id": "ee07b65e",
    "outputId": "673c12d9-7d7e-4ae0-9812-c622c89dd244"
   },
   "outputs": [
    {
     "data": {
      "text/plain": [
       "array(['покупка жилья', 'приобретение автомобиля',\n",
       "       'дополнительное образование', 'сыграть свадьбу',\n",
       "       'операции с жильем', 'образование', 'на проведение свадьбы',\n",
       "       'покупка жилья для семьи', 'покупка недвижимости',\n",
       "       'покупка коммерческой недвижимости', 'покупка жилой недвижимости',\n",
       "       'строительство собственной недвижимости', 'недвижимость',\n",
       "       'строительство недвижимости', 'на покупку подержанного автомобиля',\n",
       "       'на покупку своего автомобиля',\n",
       "       'операции с коммерческой недвижимостью',\n",
       "       'строительство жилой недвижимости', 'жилье',\n",
       "       'операции со своей недвижимостью', 'автомобили',\n",
       "       'заняться образованием', 'сделка с подержанным автомобилем',\n",
       "       'получение образования', 'автомобиль', 'свадьба',\n",
       "       'получение дополнительного образования', 'покупка своего жилья',\n",
       "       'операции с недвижимостью', 'получение высшего образования',\n",
       "       'свой автомобиль', 'сделка с автомобилем',\n",
       "       'профильное образование', 'высшее образование',\n",
       "       'покупка жилья для сдачи', 'на покупку автомобиля', 'ремонт жилью',\n",
       "       'заняться высшим образованием'], dtype=object)"
      ]
     },
     "execution_count": 19,
     "metadata": {},
     "output_type": "execute_result"
    }
   ],
   "source": [
    "data['purpose'].unique()"
   ]
  },
  {
   "cell_type": "markdown",
   "id": "52b79d56",
   "metadata": {
    "deletable": false,
    "editable": false,
    "id": "52b79d56"
   },
   "source": [
    "**Задание 18. Создайте функцию, которая на основании данных из столбца `purpose` сформирует новый столбец `purpose_category`, в который войдут следующие категории:**\n",
    "\n",
    "- `'операции с автомобилем'`,\n",
    "- `'операции с недвижимостью'`,\n",
    "- `'проведение свадьбы'`,\n",
    "- `'получение образования'`.\n",
    "\n",
    "**Например, если в столбце `purpose` находится подстрока `'на покупку автомобиля'`, то в столбце `purpose_category` должна появиться строка `'операции с автомобилем'`.**\n",
    "\n",
    "**Используйте собственную функцию с именем `categorize_purpose()` и метод `apply()`. Изучите данные в столбце `purpose` и определите, какие подстроки помогут вам правильно определить категорию.**"
   ]
  },
  {
   "cell_type": "code",
   "execution_count": 20,
   "id": "be41da5d",
   "metadata": {
    "deletable": false,
    "id": "be41da5d"
   },
   "outputs": [],
   "source": [
    "def categorize_purpose(row):\n",
    "    try:\n",
    "        if 'автом' in row:\n",
    "            return 'операции с автомобилем'\n",
    "        elif 'жил' in row or 'недвиж' in row:\n",
    "            return 'операции с недвижимостью'\n",
    "        elif 'свад' in row:\n",
    "            return 'проведение свадьбы'\n",
    "        elif 'образов' in row:\n",
    "            return 'получение образования'\n",
    "    except:\n",
    "        return 'нет категории'"
   ]
  },
  {
   "cell_type": "code",
   "execution_count": 21,
   "id": "94c4a19a",
   "metadata": {
    "deletable": false,
    "id": "94c4a19a"
   },
   "outputs": [],
   "source": [
    "data['purpose_category'] = data['purpose'].apply(categorize_purpose)"
   ]
  },
  {
   "cell_type": "markdown",
   "id": "3d596c34",
   "metadata": {
    "deletable": false,
    "editable": false,
    "id": "3d596c34"
   },
   "source": [
    "### Шаг 3. Исследуйте данные и ответьте на вопросы"
   ]
  },
  {
   "cell_type": "markdown",
   "id": "648db036",
   "metadata": {
    "deletable": false,
    "editable": false,
    "id": "648db036"
   },
   "source": [
    "#### 3.1 Есть ли зависимость между количеством детей и возвратом кредита в срок?"
   ]
  },
  {
   "cell_type": "markdown",
   "id": "109375a5",
   "metadata": {
    "deletable": false,
    "id": "7fcff25e"
   },
   "source": [
    "Информация о качестве возврата кредита (в срок) содержится в столбце:  \n",
    "- debt — имел ли задолженность по возврату кредитов\n",
    "\n",
    "Количество детей в семье содежрится в столбце:  \n",
    "- children — количество детей в семье\n",
    "\n",
    "days_employed — общий трудовой стаж в днях\n",
    "dob_years — возраст клиента в годах\n",
    "education — уровень образования клиента\n",
    "education_id — идентификатор уровня образования\n",
    "family_status — семейное положение\n",
    "family_status_id — идентификатор семейного положения\n",
    "gender — пол клиента\n",
    "income_type — тип занятости\n",
    "debt — имел ли задолженность по возврату кредитов\n",
    "total_income — ежемесячный доход\n",
    "purpose — цель получения кредита\n",
    "\n",
    "Количество детей в имеющихся данных находится в пределах от 0 до 5.  \n",
    "Оценим сколько записей для каждого количчества детей:"
   ]
  },
  {
   "cell_type": "code",
   "execution_count": 22,
   "id": "47ef6a41",
   "metadata": {},
   "outputs": [
    {
     "data": {
      "text/plain": [
       "0    14091\n",
       "1     4808\n",
       "2     2052\n",
       "3      330\n",
       "4       41\n",
       "5        9\n",
       "Name: children, dtype: int64"
      ]
     },
     "execution_count": 22,
     "metadata": {},
     "output_type": "execute_result"
    }
   ],
   "source": [
    "data['children'].value_counts()"
   ]
  },
  {
   "cell_type": "markdown",
   "id": "676f4cc4",
   "metadata": {},
   "source": [
    "Клиентов с количеством детей 3, 4, 5 существенно меньше, чем в других категориях.  \n",
    "Имется смысл проводить оценку для укрупненных групп. Т.е. необходимо сделать категоризацию по количеству детей.\n",
    "Выделить следующие группы:  \n",
    "- бездетные\n",
    "- 1 ребёнок\n",
    "- 2 ребёнка\n",
    "- многодетные (3 или больше детей)\n",
    "\n",
    "1 и 2 ребёнка может иметь разницу, поэтому исследуем отдельно"
   ]
  },
  {
   "cell_type": "code",
   "execution_count": 23,
   "id": "ed712d67",
   "metadata": {},
   "outputs": [],
   "source": [
    "def ChildCategory(number_of_children):\n",
    "    if number_of_children == 0:\n",
    "        return 'бездетные'\n",
    "    if number_of_children == 1:\n",
    "        return '1 ребёнок'\n",
    "    if number_of_children == 2:\n",
    "        return '2 ребёнка'\n",
    "    if number_of_children >= 3:\n",
    "        return 'Многодетные'\n",
    "    return 'Ошибка в данных о кол-ве детей'"
   ]
  },
  {
   "cell_type": "code",
   "execution_count": 24,
   "id": "1f9109fe",
   "metadata": {},
   "outputs": [
    {
     "data": {
      "text/plain": [
       "бездетные      14091\n",
       "1 ребёнок       4808\n",
       "2 ребёнка       2052\n",
       "Многодетные      380\n",
       "Name: children_category, dtype: int64"
      ]
     },
     "execution_count": 24,
     "metadata": {},
     "output_type": "execute_result"
    }
   ],
   "source": [
    "#Результат категоризации - количество заёмщиков в каждой группе\n",
    "data['children_category'] = data['children'].apply(ChildCategory)\n",
    "data['children_category'].value_counts()"
   ]
  },
  {
   "cell_type": "code",
   "execution_count": 25,
   "id": "db31fc3f",
   "metadata": {
    "scrolled": true
   },
   "outputs": [
    {
     "data": {
      "text/html": [
       "<div>\n",
       "<style scoped>\n",
       "    .dataframe tbody tr th:only-of-type {\n",
       "        vertical-align: middle;\n",
       "    }\n",
       "\n",
       "    .dataframe tbody tr th {\n",
       "        vertical-align: top;\n",
       "    }\n",
       "\n",
       "    .dataframe thead tr th {\n",
       "        text-align: left;\n",
       "    }\n",
       "\n",
       "    .dataframe thead tr:last-of-type th {\n",
       "        text-align: right;\n",
       "    }\n",
       "</style>\n",
       "<table border=\"1\" class=\"dataframe\">\n",
       "  <thead>\n",
       "    <tr>\n",
       "      <th></th>\n",
       "      <th colspan=\"2\" halign=\"left\">debt</th>\n",
       "      <th>debt_rate</th>\n",
       "    </tr>\n",
       "    <tr>\n",
       "      <th></th>\n",
       "      <th>count</th>\n",
       "      <th>sum</th>\n",
       "      <th></th>\n",
       "    </tr>\n",
       "    <tr>\n",
       "      <th>children_category</th>\n",
       "      <th></th>\n",
       "      <th></th>\n",
       "      <th></th>\n",
       "    </tr>\n",
       "  </thead>\n",
       "  <tbody>\n",
       "    <tr>\n",
       "      <th>1 ребёнок</th>\n",
       "      <td>4808</td>\n",
       "      <td>444</td>\n",
       "      <td>9.234609</td>\n",
       "    </tr>\n",
       "    <tr>\n",
       "      <th>2 ребёнка</th>\n",
       "      <td>2052</td>\n",
       "      <td>194</td>\n",
       "      <td>9.454191</td>\n",
       "    </tr>\n",
       "    <tr>\n",
       "      <th>Многодетные</th>\n",
       "      <td>380</td>\n",
       "      <td>31</td>\n",
       "      <td>8.157895</td>\n",
       "    </tr>\n",
       "    <tr>\n",
       "      <th>бездетные</th>\n",
       "      <td>14091</td>\n",
       "      <td>1063</td>\n",
       "      <td>7.543822</td>\n",
       "    </tr>\n",
       "  </tbody>\n",
       "</table>\n",
       "</div>"
      ],
      "text/plain": [
       "                    debt       debt_rate\n",
       "                   count   sum          \n",
       "children_category                       \n",
       "1 ребёнок           4808   444  9.234609\n",
       "2 ребёнка           2052   194  9.454191\n",
       "Многодетные          380    31  8.157895\n",
       "бездетные          14091  1063  7.543822"
      ]
     },
     "execution_count": 25,
     "metadata": {},
     "output_type": "execute_result"
    }
   ],
   "source": [
    "result_children = data[['children_category', 'debt']].copy()\n",
    "result_children = result_children.groupby('children_category').agg({'debt':['count','sum']})\n",
    "result_children['debt_rate'] = result_children['debt']['sum'] / result_children['debt']['count']\n",
    "result_children['debt_rate'] *= 100 # %\n",
    "result_children"
   ]
  },
  {
   "cell_type": "markdown",
   "id": "2c14b6ca",
   "metadata": {},
   "source": [
    "- debt_count - Количество клиентов в категории\n",
    "- debt_sum - Количество клиентов в категории, допустивших просрочки в оплате кредита\n",
    "- debt_rate - % клиентов в категории, допустивших просрочки в оплате кредита  \n",
    "\n",
    "Существенной разницы в оплате кредита в срок между категориями имеющих 1 или 2 детей не обнаружено. \n",
    "_Разница составила - 0,22%_  \n",
    "Объеждимним категории \"1 ребёнок\" и \"2 ребёнка\"."
   ]
  },
  {
   "cell_type": "code",
   "execution_count": 26,
   "id": "b4382a71",
   "metadata": {},
   "outputs": [
    {
     "data": {
      "text/html": [
       "<div>\n",
       "<style scoped>\n",
       "    .dataframe tbody tr th:only-of-type {\n",
       "        vertical-align: middle;\n",
       "    }\n",
       "\n",
       "    .dataframe tbody tr th {\n",
       "        vertical-align: top;\n",
       "    }\n",
       "\n",
       "    .dataframe thead tr th {\n",
       "        text-align: left;\n",
       "    }\n",
       "\n",
       "    .dataframe thead tr:last-of-type th {\n",
       "        text-align: right;\n",
       "    }\n",
       "</style>\n",
       "<table border=\"1\" class=\"dataframe\">\n",
       "  <thead>\n",
       "    <tr>\n",
       "      <th></th>\n",
       "      <th colspan=\"2\" halign=\"left\">debt</th>\n",
       "      <th>debt_rate</th>\n",
       "    </tr>\n",
       "    <tr>\n",
       "      <th></th>\n",
       "      <th>count</th>\n",
       "      <th>sum</th>\n",
       "      <th></th>\n",
       "    </tr>\n",
       "    <tr>\n",
       "      <th>children_category</th>\n",
       "      <th></th>\n",
       "      <th></th>\n",
       "      <th></th>\n",
       "    </tr>\n",
       "  </thead>\n",
       "  <tbody>\n",
       "    <tr>\n",
       "      <th>1 или 2 ребёнка</th>\n",
       "      <td>6860</td>\n",
       "      <td>638</td>\n",
       "      <td>9.300292</td>\n",
       "    </tr>\n",
       "    <tr>\n",
       "      <th>Многодетные</th>\n",
       "      <td>380</td>\n",
       "      <td>31</td>\n",
       "      <td>8.157895</td>\n",
       "    </tr>\n",
       "    <tr>\n",
       "      <th>бездетные</th>\n",
       "      <td>14091</td>\n",
       "      <td>1063</td>\n",
       "      <td>7.543822</td>\n",
       "    </tr>\n",
       "  </tbody>\n",
       "</table>\n",
       "</div>"
      ],
      "text/plain": [
       "                    debt       debt_rate\n",
       "                   count   sum          \n",
       "children_category                       \n",
       "1 или 2 ребёнка     6860   638  9.300292\n",
       "Многодетные          380    31  8.157895\n",
       "бездетные          14091  1063  7.543822"
      ]
     },
     "execution_count": 26,
     "metadata": {},
     "output_type": "execute_result"
    }
   ],
   "source": [
    "# Объединим категории '1 ребёнок' и '2 ребёнка'\n",
    "data.loc[(data['children_category'] == '1 ребёнок') | (data['children_category'] == '2 ребёнка'), 'children_category'] = '1 или 2 ребёнка'\n",
    "result_children = data[['children_category', 'debt']].copy()\n",
    "result_children = result_children.groupby('children_category').agg({'debt':['count','sum']})\n",
    "result_children['debt_rate'] = result_children['debt']['sum'] / result_children['debt']['count']\n",
    "result_children['debt_rate'] *= 100 # %\n",
    "result_children.sort_values(by='debt_rate', ascending= False) # Отсортируем от худшего к лучшему"
   ]
  },
  {
   "cell_type": "markdown",
   "id": "2eb9088e",
   "metadata": {
    "deletable": false,
    "id": "2eb9088e"
   },
   "source": [
    "- debt_count - Количество клиентов в категории\n",
    "- debt_sum - Количество клиентов в категории, допустивших просрочки в оплате кредита\n",
    "- debt_rate - % клиентов в категории, допустивших просрочки в оплате кредита\n",
    "\n",
    "**Вывод:** \n",
    "Существенной разницы в оплате кредита в срок между категориями имеющих 1 или 2 детей не обнаружено.  \n",
    "Между другими категориями уже имеется существенная разница (более 1%), позволяющаяя сделать вывод о наличии взаимосвязи между выплатой кредита в срок и количеством детей.  \n",
    "Наименее надежная категория: Имеющие ___\"1 или 2 ребенка\"___. Просрочки допускают **9,3%**  \n",
    "Наиболее надёжная и наибольшая по численности категория: ___\"Не имеющие детей\"___. Просрочки допускают **7,54%**  \n",
    "В наименьшей по численности категории ___\"Многодетные\"___ (_имеющие 3 и более детей_) допускают просрочки **8,15%** заёмщиков."
   ]
  },
  {
   "cell_type": "markdown",
   "id": "74c9b3a7",
   "metadata": {
    "deletable": false,
    "editable": false,
    "id": "74c9b3a7"
   },
   "source": [
    "#### 3.2 Есть ли зависимость между семейным положением и возвратом кредита в срок?"
   ]
  },
  {
   "cell_type": "markdown",
   "id": "f0a825d0",
   "metadata": {
    "deletable": false,
    "id": "8098ab3b"
   },
   "source": [
    "Интересуют столбцы:  \n",
    "- family_status — семейное положение\n",
    "- family_status_id — идентификатор семейного положения\n",
    "- debt — имел ли задолженность по возврату кредитов  \n"
   ]
  },
  {
   "cell_type": "code",
   "execution_count": 27,
   "id": "9b7b4297",
   "metadata": {},
   "outputs": [
    {
     "data": {
      "text/html": [
       "<div>\n",
       "<style scoped>\n",
       "    .dataframe tbody tr th:only-of-type {\n",
       "        vertical-align: middle;\n",
       "    }\n",
       "\n",
       "    .dataframe tbody tr th {\n",
       "        vertical-align: top;\n",
       "    }\n",
       "\n",
       "    .dataframe thead tr th {\n",
       "        text-align: left;\n",
       "    }\n",
       "\n",
       "    .dataframe thead tr:last-of-type th {\n",
       "        text-align: right;\n",
       "    }\n",
       "</style>\n",
       "<table border=\"1\" class=\"dataframe\">\n",
       "  <thead>\n",
       "    <tr>\n",
       "      <th></th>\n",
       "      <th>family_status</th>\n",
       "      <th>debt</th>\n",
       "      <th>debt_rate</th>\n",
       "    </tr>\n",
       "    <tr>\n",
       "      <th></th>\n",
       "      <th>count</th>\n",
       "      <th>sum</th>\n",
       "      <th></th>\n",
       "    </tr>\n",
       "    <tr>\n",
       "      <th>family_status</th>\n",
       "      <th></th>\n",
       "      <th></th>\n",
       "      <th></th>\n",
       "    </tr>\n",
       "  </thead>\n",
       "  <tbody>\n",
       "    <tr>\n",
       "      <th>Не женат / не замужем</th>\n",
       "      <td>2796</td>\n",
       "      <td>273</td>\n",
       "      <td>9.763948</td>\n",
       "    </tr>\n",
       "    <tr>\n",
       "      <th>гражданский брак</th>\n",
       "      <td>4134</td>\n",
       "      <td>385</td>\n",
       "      <td>9.313014</td>\n",
       "    </tr>\n",
       "    <tr>\n",
       "      <th>женат / замужем</th>\n",
       "      <td>12261</td>\n",
       "      <td>927</td>\n",
       "      <td>7.560558</td>\n",
       "    </tr>\n",
       "    <tr>\n",
       "      <th>в разводе</th>\n",
       "      <td>1189</td>\n",
       "      <td>84</td>\n",
       "      <td>7.064760</td>\n",
       "    </tr>\n",
       "    <tr>\n",
       "      <th>вдовец / вдова</th>\n",
       "      <td>951</td>\n",
       "      <td>63</td>\n",
       "      <td>6.624606</td>\n",
       "    </tr>\n",
       "  </tbody>\n",
       "</table>\n",
       "</div>"
      ],
      "text/plain": [
       "                      family_status debt debt_rate\n",
       "                              count  sum          \n",
       "family_status                                     \n",
       "Не женат / не замужем          2796  273  9.763948\n",
       "гражданский брак               4134  385  9.313014\n",
       "женат / замужем               12261  927  7.560558\n",
       "в разводе                      1189   84  7.064760\n",
       "вдовец / вдова                  951   63  6.624606"
      ]
     },
     "execution_count": 27,
     "metadata": {},
     "output_type": "execute_result"
    }
   ],
   "source": [
    "result_family = data.groupby('family_status').agg({'family_status': ['count'], 'debt': ['sum']})\n",
    "# Дополнительные столбцы с расчетами\n",
    "result_family['debt_rate'] = result_family['debt']['sum'] / result_family['family_status']['count']\n",
    "result_family['debt_rate'] *= 100 # %\n",
    "result_family.sort_values(by= 'debt_rate', ascending= False) # Отсортируем от худшего к лучшему"
   ]
  },
  {
   "cell_type": "markdown",
   "id": "c389ca63",
   "metadata": {
    "deletable": false,
    "id": "c389ca63"
   },
   "source": [
    "- family_status count - количество клиентов в категории\n",
    "- debt sum - количество, допустивших просрочку по оплате\n",
    "- debt_rate - % допустивших проскрочку в категории  \n",
    "\n",
    "**Вывод:**  \n",
    "Наихудшая статистика с возвратами кредитов в срок у тех, кто не был в официальном браке.  \n",
    "Те, кто состоит в браке сотавляют самую многочисленную категорию."
   ]
  },
  {
   "cell_type": "markdown",
   "id": "9529de68",
   "metadata": {
    "deletable": false,
    "editable": false,
    "id": "9529de68"
   },
   "source": [
    "#### 3.3 Есть ли зависимость между уровнем дохода и возвратом кредита в срок?"
   ]
  },
  {
   "cell_type": "markdown",
   "id": "57f86993",
   "metadata": {},
   "source": [
    "Для сравнения потребуется провести категоризацию по уровню дохода."
   ]
  },
  {
   "cell_type": "code",
   "execution_count": 28,
   "id": "a9233049",
   "metadata": {},
   "outputs": [
    {
     "data": {
      "text/plain": [
       "2265604"
      ]
     },
     "execution_count": 28,
     "metadata": {},
     "output_type": "execute_result"
    }
   ],
   "source": [
    "data['total_income'].max()"
   ]
  },
  {
   "cell_type": "code",
   "execution_count": 29,
   "id": "f3c76cfe",
   "metadata": {},
   "outputs": [
    {
     "data": {
      "text/plain": [
       "20667"
      ]
     },
     "execution_count": 29,
     "metadata": {},
     "output_type": "execute_result"
    }
   ],
   "source": [
    "data['total_income'].min()"
   ]
  },
  {
   "cell_type": "code",
   "execution_count": 30,
   "id": "4fbd27ef",
   "metadata": {},
   "outputs": [
    {
     "data": {
      "text/plain": [
       "142594.0"
      ]
     },
     "execution_count": 30,
     "metadata": {},
     "output_type": "execute_result"
    }
   ],
   "source": [
    "data['total_income'].median()"
   ]
  },
  {
   "cell_type": "code",
   "execution_count": 31,
   "id": "8787f44a",
   "metadata": {
    "deletable": false,
    "id": "8787f44a",
    "scrolled": true
   },
   "outputs": [
    {
     "data": {
      "text/plain": [
       "<AxesSubplot:xlabel='total_income'>"
      ]
     },
     "execution_count": 31,
     "metadata": {},
     "output_type": "execute_result"
    },
    {
     "data": {
      "image/png": "[encoded data removed]",
      "text/plain": [
       "<Figure size 1080x72 with 1 Axes>"
      ]
     },
     "metadata": {
      "needs_background": "light"
     },
     "output_type": "display_data"
    }
   ],
   "source": [
    "import seaborn\n",
    "import matplotlib.pyplot as plt\n",
    "\n",
    "plt.rcParams['figure.figsize'] = (15, 1) # указываем размер визуализации\n",
    "seaborn.boxplot(x=data['total_income'])"
   ]
  },
  {
   "cell_type": "markdown",
   "id": "1134292f",
   "metadata": {},
   "source": [
    "Уровень дохода очень неравномерен.  \n",
    "Для корректного сравнения нужно выделить равные группы.  \n",
    "Последовательно разделим данные пополам с помощью 7 медиан до получения 8 частей.  \n",
    "Получится по 2690 записей в категории."
   ]
  },
  {
   "cell_type": "code",
   "execution_count": 32,
   "id": "31b75e7c",
   "metadata": {
    "scrolled": true
   },
   "outputs": [
    {
     "name": "stdout",
     "output_type": "stream",
     "text": [
      "Категория 1: от 20667 до 84094 руб.\n",
      "Категория 2: от 84094 до 108050 руб.\n",
      "Категория 3: от 108050 до 128317 руб.\n",
      "Категория 4: от 128317 до 142594 руб.\n",
      "Категория 5: от 142594 до 167504 руб.\n",
      "Категория 6: от 167504 до 196642 руб.\n",
      "Категория 7: от 196642 до 255092 руб.\n",
      "Категория 8: от 255092 до 2265604 руб.\n"
     ]
    }
   ],
   "source": [
    "min = data['total_income'].min()\n",
    "max = data['total_income'].max()\n",
    "median4 = data['total_income'].median()\n",
    "median2 = data.loc[data['total_income'] <= median4]['total_income'].median()\n",
    "median6 = data.loc[data['total_income'] > median4]['total_income'].median()\n",
    "median1 = data.loc[data['total_income'] <= median2]['total_income'].median()\n",
    "median3 = data.loc[(data['total_income'] > median2) & (data['total_income'] <= median4)]['total_income'].median()\n",
    "median5 = data.loc[(data['total_income'] > median4) & (data['total_income'] <= median6)]['total_income'].median()\n",
    "median7 = data.loc[data['total_income'] > median6]['total_income'].median()\n",
    "print('Категория 1: от {:.0f} до {:.0f} руб.'.format(min, median1))\n",
    "print('Категория 2: от {:.0f} до {:.0f} руб.'.format(median1, median2))\n",
    "print('Категория 3: от {:.0f} до {:.0f} руб.'.format(median2, median3))\n",
    "print('Категория 4: от {:.0f} до {:.0f} руб.'.format(median3, median4))\n",
    "print('Категория 5: от {:.0f} до {:.0f} руб.'.format(median4, median5))\n",
    "print('Категория 6: от {:.0f} до {:.0f} руб.'.format(median5, median6))\n",
    "print('Категория 7: от {:.0f} до {:.0f} руб.'.format(median6, median7))\n",
    "print('Категория 8: от {:.0f} до {:.0f} руб.'.format(median7, max))"
   ]
  },
  {
   "cell_type": "code",
   "execution_count": 33,
   "id": "e67c6480",
   "metadata": {},
   "outputs": [],
   "source": [
    "def IncomeCategory(total_income):\n",
    "    if total_income <= median1:\n",
    "        return 'Категория 1: от {:.0f} до {:.0f} руб.'.format(min, median1)\n",
    "    if total_income <= median2:\n",
    "        return 'Категория 2: от {:.0f} до {:.0f} руб.'.format(median1, median2)\n",
    "    if total_income <= median3:\n",
    "        return 'Категория 3: от {:.0f} до {:.0f} руб.'.format(median2, median3)\n",
    "    if total_income <= median4:\n",
    "        return 'Категория 4: от {:.0f} до {:.0f} руб.'.format(median3, median4)\n",
    "    if total_income <= median5:\n",
    "        return 'Категория 5: от {:.0f} до {:.0f} руб.'.format(median4, median5)\n",
    "    if total_income <= median6:\n",
    "        return 'Категория 6: от {:.0f} до {:.0f} руб.'.format(median5, median6)\n",
    "    if total_income <= median7:\n",
    "        return 'Категория 7: от {:.0f} до {:.0f} руб.'.format(median6, median7)\n",
    "    return 'Категория 8: от {:.0f} до {:.0f} руб.'.format(median7, max)"
   ]
  },
  {
   "cell_type": "code",
   "execution_count": 34,
   "id": "242fe60b",
   "metadata": {},
   "outputs": [
    {
     "data": {
      "text/plain": [
       "Категория 3: от 108050 до 128317 руб.     2696\n",
       "Категория 2: от 84094 до 108050 руб.      2696\n",
       "Категория 1: от 20667 до 84094 руб.       2696\n",
       "Категория 4: от 128317 до 142594 руб.     2695\n",
       "Категория 8: от 255092 до 2265604 руб.    2637\n",
       "Категория 5: от 142594 до 167504 руб.     2637\n",
       "Категория 6: от 167504 до 196642 руб.     2637\n",
       "Категория 7: от 196642 до 255092 руб.     2637\n",
       "Name: income_category, dtype: int64"
      ]
     },
     "execution_count": 34,
     "metadata": {},
     "output_type": "execute_result"
    }
   ],
   "source": [
    "#Результат категоризации - количество заёмщиков в каждой группе\n",
    "data['income_category'] = data['total_income'].apply(IncomeCategory)\n",
    "data['income_category'].value_counts()"
   ]
  },
  {
   "cell_type": "code",
   "execution_count": 35,
   "id": "d33e1063",
   "metadata": {},
   "outputs": [
    {
     "data": {
      "text/html": [
       "<div>\n",
       "<style scoped>\n",
       "    .dataframe tbody tr th:only-of-type {\n",
       "        vertical-align: middle;\n",
       "    }\n",
       "\n",
       "    .dataframe tbody tr th {\n",
       "        vertical-align: top;\n",
       "    }\n",
       "\n",
       "    .dataframe thead tr th {\n",
       "        text-align: left;\n",
       "    }\n",
       "\n",
       "    .dataframe thead tr:last-of-type th {\n",
       "        text-align: right;\n",
       "    }\n",
       "</style>\n",
       "<table border=\"1\" class=\"dataframe\">\n",
       "  <thead>\n",
       "    <tr>\n",
       "      <th></th>\n",
       "      <th colspan=\"2\" halign=\"left\">debt</th>\n",
       "      <th>debt_rate</th>\n",
       "    </tr>\n",
       "    <tr>\n",
       "      <th></th>\n",
       "      <th>count</th>\n",
       "      <th>sum</th>\n",
       "      <th></th>\n",
       "    </tr>\n",
       "    <tr>\n",
       "      <th>income_category</th>\n",
       "      <th></th>\n",
       "      <th></th>\n",
       "      <th></th>\n",
       "    </tr>\n",
       "  </thead>\n",
       "  <tbody>\n",
       "    <tr>\n",
       "      <th>Категория 1: от 20667 до 84094 руб.</th>\n",
       "      <td>2696</td>\n",
       "      <td>207</td>\n",
       "      <td>7.678042</td>\n",
       "    </tr>\n",
       "    <tr>\n",
       "      <th>Категория 2: от 84094 до 108050 руб.</th>\n",
       "      <td>2696</td>\n",
       "      <td>225</td>\n",
       "      <td>8.345697</td>\n",
       "    </tr>\n",
       "    <tr>\n",
       "      <th>Категория 3: от 108050 до 128317 руб.</th>\n",
       "      <td>2696</td>\n",
       "      <td>234</td>\n",
       "      <td>8.679525</td>\n",
       "    </tr>\n",
       "    <tr>\n",
       "      <th>Категория 4: от 128317 до 142594 руб.</th>\n",
       "      <td>2695</td>\n",
       "      <td>241</td>\n",
       "      <td>8.942486</td>\n",
       "    </tr>\n",
       "    <tr>\n",
       "      <th>Категория 5: от 142594 до 167504 руб.</th>\n",
       "      <td>2637</td>\n",
       "      <td>233</td>\n",
       "      <td>8.835798</td>\n",
       "    </tr>\n",
       "    <tr>\n",
       "      <th>Категория 6: от 167504 до 196642 руб.</th>\n",
       "      <td>2637</td>\n",
       "      <td>217</td>\n",
       "      <td>8.229048</td>\n",
       "    </tr>\n",
       "    <tr>\n",
       "      <th>Категория 7: от 196642 до 255092 руб.</th>\n",
       "      <td>2637</td>\n",
       "      <td>192</td>\n",
       "      <td>7.281001</td>\n",
       "    </tr>\n",
       "    <tr>\n",
       "      <th>Категория 8: от 255092 до 2265604 руб.</th>\n",
       "      <td>2637</td>\n",
       "      <td>183</td>\n",
       "      <td>6.939704</td>\n",
       "    </tr>\n",
       "  </tbody>\n",
       "</table>\n",
       "</div>"
      ],
      "text/plain": [
       "                                        debt      debt_rate\n",
       "                                       count  sum          \n",
       "income_category                                            \n",
       "Категория 1: от 20667 до 84094 руб.     2696  207  7.678042\n",
       "Категория 2: от 84094 до 108050 руб.    2696  225  8.345697\n",
       "Категория 3: от 108050 до 128317 руб.   2696  234  8.679525\n",
       "Категория 4: от 128317 до 142594 руб.   2695  241  8.942486\n",
       "Категория 5: от 142594 до 167504 руб.   2637  233  8.835798\n",
       "Категория 6: от 167504 до 196642 руб.   2637  217  8.229048\n",
       "Категория 7: от 196642 до 255092 руб.   2637  192  7.281001\n",
       "Категория 8: от 255092 до 2265604 руб.  2637  183  6.939704"
      ]
     },
     "execution_count": 35,
     "metadata": {},
     "output_type": "execute_result"
    }
   ],
   "source": [
    "result_income = data.groupby('income_category').agg({'debt': ['count', 'sum']})\n",
    "# Дополнительные столбцы с расчетами\n",
    "result_income['debt_rate'] = result_income['debt']['sum'] / result_income['debt']['count']\n",
    "result_income['debt_rate'] *= 100 # %\n",
    "result_income.sort_values(by= 'income_category', ascending=True) # Отсортируем по возрастанию дохода"
   ]
  },
  {
   "cell_type": "markdown",
   "id": "6dd14b57",
   "metadata": {
    "deletable": false,
    "id": "6dd14b57"
   },
   "source": [
    "**Вывод:**\n",
    "Самой ответственной является категория с наиболее высоким уровнем дохода - от 250 тысяч руб. и выше.  \n",
    "Также более своевременно совершают платежи в самой низкой категориии - с доходом от 20 до 84 тыс. руб.  \n",
    "Это может быть связано с более низкими суммами кредита или разницей в критериях одобрения кредита.  \n",
    "В диапазоне 108 тысяч - 167 тысяч ситуация со своевремменностью платежей хуже всего и отличается до 2% от самых ответственных заёмщиков."
   ]
  },
  {
   "cell_type": "markdown",
   "id": "1dcc9b12",
   "metadata": {
    "deletable": false,
    "editable": false,
    "id": "1dcc9b12"
   },
   "source": [
    "#### 3.4 Как разные цели кредита влияют на его возврат в срок?"
   ]
  },
  {
   "cell_type": "code",
   "execution_count": 36,
   "id": "c602bc8b",
   "metadata": {
    "deletable": false,
    "id": "c602bc8b"
   },
   "outputs": [
    {
     "data": {
      "text/html": [
       "<div>\n",
       "<style scoped>\n",
       "    .dataframe tbody tr th:only-of-type {\n",
       "        vertical-align: middle;\n",
       "    }\n",
       "\n",
       "    .dataframe tbody tr th {\n",
       "        vertical-align: top;\n",
       "    }\n",
       "\n",
       "    .dataframe thead tr th {\n",
       "        text-align: left;\n",
       "    }\n",
       "\n",
       "    .dataframe thead tr:last-of-type th {\n",
       "        text-align: right;\n",
       "    }\n",
       "</style>\n",
       "<table border=\"1\" class=\"dataframe\">\n",
       "  <thead>\n",
       "    <tr>\n",
       "      <th></th>\n",
       "      <th>purpose_category</th>\n",
       "      <th>debt</th>\n",
       "      <th>debt_rate</th>\n",
       "    </tr>\n",
       "    <tr>\n",
       "      <th></th>\n",
       "      <th>count</th>\n",
       "      <th>sum</th>\n",
       "      <th></th>\n",
       "    </tr>\n",
       "    <tr>\n",
       "      <th>purpose_category</th>\n",
       "      <th></th>\n",
       "      <th></th>\n",
       "      <th></th>\n",
       "    </tr>\n",
       "  </thead>\n",
       "  <tbody>\n",
       "    <tr>\n",
       "      <th>операции с автомобилем</th>\n",
       "      <td>4279</td>\n",
       "      <td>400</td>\n",
       "      <td>9.347978</td>\n",
       "    </tr>\n",
       "    <tr>\n",
       "      <th>получение образования</th>\n",
       "      <td>3988</td>\n",
       "      <td>369</td>\n",
       "      <td>9.252758</td>\n",
       "    </tr>\n",
       "    <tr>\n",
       "      <th>проведение свадьбы</th>\n",
       "      <td>2313</td>\n",
       "      <td>183</td>\n",
       "      <td>7.911803</td>\n",
       "    </tr>\n",
       "    <tr>\n",
       "      <th>операции с недвижимостью</th>\n",
       "      <td>10751</td>\n",
       "      <td>780</td>\n",
       "      <td>7.255139</td>\n",
       "    </tr>\n",
       "  </tbody>\n",
       "</table>\n",
       "</div>"
      ],
      "text/plain": [
       "                         purpose_category debt debt_rate\n",
       "                                    count  sum          \n",
       "purpose_category                                        \n",
       "операции с автомобилем               4279  400  9.347978\n",
       "получение образования                3988  369  9.252758\n",
       "проведение свадьбы                   2313  183  7.911803\n",
       "операции с недвижимостью            10751  780  7.255139"
      ]
     },
     "execution_count": 36,
     "metadata": {},
     "output_type": "execute_result"
    }
   ],
   "source": [
    "result_purpose = data.groupby('purpose_category').agg({'purpose_category': ['count'],'debt': ['sum']})\n",
    "# Дополнительные столбцы с расчетами\n",
    "result_purpose['debt_rate'] = result_purpose['debt']['sum'] / result_purpose['purpose_category']['count'] * 100\n",
    "result_purpose.sort_values(by= 'debt_rate', ascending= False) # Отсортируем по наихудшей возвращаемости"
   ]
  },
  {
   "cell_type": "markdown",
   "id": "cf05ed63",
   "metadata": {
    "deletable": false,
    "id": "cf05ed63"
   },
   "source": [
    "**Вывод:** \n",
    "\n",
    "Покупка автомобиля или образование - это те цели, при которых возврат кредита в срок более проблематичен.  \n",
    "Наилучшая ситуация при операциях с недвижимостью. И в то же самое время это наибольшая доля заёмщиков."
   ]
  },
  {
   "cell_type": "markdown",
   "id": "46c1f10b",
   "metadata": {
    "deletable": false,
    "editable": false,
    "id": "46c1f10b"
   },
   "source": [
    "#### 3.5 Приведите возможные причины появления пропусков в исходных данных."
   ]
  },
  {
   "cell_type": "markdown",
   "id": "3697d2a9",
   "metadata": {
    "deletable": false,
    "id": "3697d2a9"
   },
   "source": [
    "В данном случае можно обратить внимание на то, что есть симметрия в пропущенных данных. Количество пропущенных значений для дохода и для трудового стажа точно совпадает. Это может говорить о какой-то технической проблеме либо общей закономерности при подготовке или вводе данных.  \n",
    "В общем случае причиной пропусков может быть не только техническая ошибка, но незаполнение данных по причине нежелания их указывать или отсутствия (что, например, может быть эквивалентно 0 - отсутствие стажа или дохода). Также такие пропуски могут зависеть от другой известно информации, например быть связанной с возрастной группой или уровнем дохода."
   ]
  },
  {
   "cell_type": "code",
   "execution_count": 37,
   "id": "29970fed",
   "metadata": {},
   "outputs": [
    {
     "data": {
      "text/plain": [
       "children            2174\n",
       "days_employed          0\n",
       "dob_years           2174\n",
       "education           2174\n",
       "education_id        2174\n",
       "family_status       2174\n",
       "family_status_id    2174\n",
       "gender              2174\n",
       "income_type         2174\n",
       "debt                2174\n",
       "total_income           0\n",
       "purpose             2174\n",
       "dtype: int64"
      ]
     },
     "execution_count": 37,
     "metadata": {},
     "output_type": "execute_result"
    }
   ],
   "source": [
    "try:\n",
    "    clients = pd.read_csv('/datasets/data.csv')\n",
    "except:\n",
    "    clients = pd.read_csv('https://code.s3.yandex.net/datasets/data.csv')\n",
    "clients.loc[clients['days_employed'].isna() & clients['total_income'].isna()].count()"
   ]
  },
  {
   "cell_type": "markdown",
   "id": "3137d257",
   "metadata": {
    "deletable": false,
    "editable": false,
    "id": "3137d257"
   },
   "source": [
    "#### 3.6 Объясните, почему заполнить пропуски медианным значением — лучшее решение для количественных переменных."
   ]
  },
  {
   "cell_type": "markdown",
   "id": "cf40012a",
   "metadata": {
    "deletable": false,
    "id": "cf40012a"
   },
   "source": [
    "На медианное значение меньше влияют выбросы и характер распределения значений. Поэтому замена на медианное значение дает меньшее искажение данных, чем заполнение средним значением. Но медиана не является единственным методом заполнения."
   ]
  },
  {
   "cell_type": "markdown",
   "id": "57bc304e",
   "metadata": {
    "deletable": false,
    "editable": false,
    "id": "57bc304e"
   },
   "source": [
    "### Шаг 4: общий вывод."
   ]
  },
  {
   "cell_type": "markdown",
   "id": "1ab75d1c",
   "metadata": {
    "deletable": false,
    "id": "1ab75d1c"
   },
   "source": [
    "Анализ проводился по данным из **21525 записей**.  \n",
    "\n",
    "#### Пропущенный значения\n",
    "Данные содержали **2174 пропущенных значения**  (**~1%** от всех данных) в столбцах **days_empoloyed** и **total_income**, причём было подтверждено, что пропуски в обоих колонках полностью совпадают.  \n",
    "Пропущенные значения **total_income** были заполненны медианными значениями соответствующими типу занятости income_type.  \n",
    "Пропущенные значения **days_empoloyed** были заполнены медианными значениями соответствующими типу занятости income_type.\n",
    "\n",
    "#### Аномалии в данных\n",
    "1) Отрицательное количество дней трудового стажа в столбце **days_employed**.  \n",
    "\n",
    "Отрицательные значения заменены этими же положительными значениями.\n",
    "\n",
    "2) У двух типов (безработные и пенсионеры) аномально большие значения трудового стажа **days_employed**.  \n",
    "\n",
    "Эти данные оставлены, как есть.\n",
    "\n",
    "3) В столбце children есть два аномальных значения: -1 и 20.\n",
    "\n",
    "Строки, с аномальными значениями удалены (**193** записи).\n",
    "\n",
    "#### Дубликаты\n",
    "Удален **71** явный дубликат."
   ]
  },
  {
   "cell_type": "markdown",
   "id": "545d7073",
   "metadata": {},
   "source": [
    "#### Ответы на попросы\n",
    "По всем вопросам были получены ответы укзывающие на наличие исследуемых зависимостей.  \n",
    "\n",
    "Сумарный краткий вывод:  \n",
    "##### Зависимость между сроком возврата кредита и количеством детей: \n",
    "\n",
    "Были выделены следующие категории:\n",
    "- бездетные\n",
    "- 1 ребёнок\n",
    "- 2 ребёнка\n",
    "- Многодетные (3 и более детей)  \n",
    "\n",
    "Как показал последующий анализ, существенной разницы между группами \"1 ребёнок\" и \"2 ребёнка\" нет. Поэтому количество групп было сокращено слиянием этих групп в одну."
   ]
  },
  {
   "cell_type": "code",
   "execution_count": 38,
   "id": "bd8cfef6",
   "metadata": {},
   "outputs": [
    {
     "data": {
      "text/html": [
       "<div>\n",
       "<style scoped>\n",
       "    .dataframe tbody tr th:only-of-type {\n",
       "        vertical-align: middle;\n",
       "    }\n",
       "\n",
       "    .dataframe tbody tr th {\n",
       "        vertical-align: top;\n",
       "    }\n",
       "\n",
       "    .dataframe thead tr th {\n",
       "        text-align: left;\n",
       "    }\n",
       "\n",
       "    .dataframe thead tr:last-of-type th {\n",
       "        text-align: right;\n",
       "    }\n",
       "</style>\n",
       "<table border=\"1\" class=\"dataframe\">\n",
       "  <thead>\n",
       "    <tr>\n",
       "      <th></th>\n",
       "      <th colspan=\"2\" halign=\"left\">debt</th>\n",
       "      <th>debt_rate</th>\n",
       "    </tr>\n",
       "    <tr>\n",
       "      <th></th>\n",
       "      <th>count</th>\n",
       "      <th>sum</th>\n",
       "      <th></th>\n",
       "    </tr>\n",
       "    <tr>\n",
       "      <th>children_category</th>\n",
       "      <th></th>\n",
       "      <th></th>\n",
       "      <th></th>\n",
       "    </tr>\n",
       "  </thead>\n",
       "  <tbody>\n",
       "    <tr>\n",
       "      <th>1 или 2 ребёнка</th>\n",
       "      <td>6860</td>\n",
       "      <td>638</td>\n",
       "      <td>9.300292</td>\n",
       "    </tr>\n",
       "    <tr>\n",
       "      <th>Многодетные</th>\n",
       "      <td>380</td>\n",
       "      <td>31</td>\n",
       "      <td>8.157895</td>\n",
       "    </tr>\n",
       "    <tr>\n",
       "      <th>бездетные</th>\n",
       "      <td>14091</td>\n",
       "      <td>1063</td>\n",
       "      <td>7.543822</td>\n",
       "    </tr>\n",
       "  </tbody>\n",
       "</table>\n",
       "</div>"
      ],
      "text/plain": [
       "                    debt       debt_rate\n",
       "                   count   sum          \n",
       "children_category                       \n",
       "1 или 2 ребёнка     6860   638  9.300292\n",
       "Многодетные          380    31  8.157895\n",
       "бездетные          14091  1063  7.543822"
      ]
     },
     "execution_count": 38,
     "metadata": {},
     "output_type": "execute_result"
    }
   ],
   "source": [
    "result_children.sort_values(by='debt_rate', ascending= False) # Отсортируем от худшего к лучшему"
   ]
  },
  {
   "cell_type": "markdown",
   "id": "18a39698",
   "metadata": {},
   "source": [
    "- debt_count - Количество клиентов в категории\n",
    "- debt_sum - Количество клиентов в категории, допустивших просрочки в оплате кредита\n",
    "- debt_rate - % клиентов в категории, допустивших просрочки в оплате кредита\n",
    "\n",
    "**Вывод:** \n",
    "Существенной разницы в оплате кредита в срок между категориями имеющих 1 или 2 детей не обнаружено.  \n",
    "Между другими категориями уже имеется существенная разница (более 1%), позволяющаяя сделать вывод о наличии взаимосвязи между выплатой кредита в срок и количеством детей.  \n",
    "Наименее надежная категория: Имеющие ___\"1 или 2 ребенка\"___. Просрочки допускают **9,3%**  \n",
    "Наиболее надёжная и наибольшая по численности категория: ___\"Не имеющие детей\"___. Просрочки допускают **7,54%**  \n",
    "В наименьшей по численности категории ___\"Многодетные\"___ (_имеющие 3 и более детей_) допускают просрочки **8,15%** заёмщиков."
   ]
  },
  {
   "cell_type": "markdown",
   "id": "1d2b8335",
   "metadata": {},
   "source": [
    "##### Зависимость между семейным положением и возвратом кредита в срок:   \n",
    "\n",
    "Использовались категории из данных."
   ]
  },
  {
   "cell_type": "code",
   "execution_count": 39,
   "id": "0e4f0036",
   "metadata": {
    "scrolled": true
   },
   "outputs": [
    {
     "data": {
      "text/html": [
       "<div>\n",
       "<style scoped>\n",
       "    .dataframe tbody tr th:only-of-type {\n",
       "        vertical-align: middle;\n",
       "    }\n",
       "\n",
       "    .dataframe tbody tr th {\n",
       "        vertical-align: top;\n",
       "    }\n",
       "\n",
       "    .dataframe thead tr th {\n",
       "        text-align: left;\n",
       "    }\n",
       "\n",
       "    .dataframe thead tr:last-of-type th {\n",
       "        text-align: right;\n",
       "    }\n",
       "</style>\n",
       "<table border=\"1\" class=\"dataframe\">\n",
       "  <thead>\n",
       "    <tr>\n",
       "      <th></th>\n",
       "      <th>family_status</th>\n",
       "      <th>debt</th>\n",
       "      <th>debt_rate</th>\n",
       "    </tr>\n",
       "    <tr>\n",
       "      <th></th>\n",
       "      <th>count</th>\n",
       "      <th>sum</th>\n",
       "      <th></th>\n",
       "    </tr>\n",
       "    <tr>\n",
       "      <th>family_status</th>\n",
       "      <th></th>\n",
       "      <th></th>\n",
       "      <th></th>\n",
       "    </tr>\n",
       "  </thead>\n",
       "  <tbody>\n",
       "    <tr>\n",
       "      <th>Не женат / не замужем</th>\n",
       "      <td>2796</td>\n",
       "      <td>273</td>\n",
       "      <td>9.763948</td>\n",
       "    </tr>\n",
       "    <tr>\n",
       "      <th>гражданский брак</th>\n",
       "      <td>4134</td>\n",
       "      <td>385</td>\n",
       "      <td>9.313014</td>\n",
       "    </tr>\n",
       "    <tr>\n",
       "      <th>женат / замужем</th>\n",
       "      <td>12261</td>\n",
       "      <td>927</td>\n",
       "      <td>7.560558</td>\n",
       "    </tr>\n",
       "    <tr>\n",
       "      <th>в разводе</th>\n",
       "      <td>1189</td>\n",
       "      <td>84</td>\n",
       "      <td>7.064760</td>\n",
       "    </tr>\n",
       "    <tr>\n",
       "      <th>вдовец / вдова</th>\n",
       "      <td>951</td>\n",
       "      <td>63</td>\n",
       "      <td>6.624606</td>\n",
       "    </tr>\n",
       "  </tbody>\n",
       "</table>\n",
       "</div>"
      ],
      "text/plain": [
       "                      family_status debt debt_rate\n",
       "                              count  sum          \n",
       "family_status                                     \n",
       "Не женат / не замужем          2796  273  9.763948\n",
       "гражданский брак               4134  385  9.313014\n",
       "женат / замужем               12261  927  7.560558\n",
       "в разводе                      1189   84  7.064760\n",
       "вдовец / вдова                  951   63  6.624606"
      ]
     },
     "execution_count": 39,
     "metadata": {},
     "output_type": "execute_result"
    }
   ],
   "source": [
    "result_family.sort_values(by= 'debt_rate', ascending= False) # Отсортируем от худшего к лучшему"
   ]
  },
  {
   "cell_type": "markdown",
   "id": "72e3c182",
   "metadata": {},
   "source": [
    "- family_status count - количество клиентов в категории\n",
    "- debt sum - количество, допустивших просрочку по оплате\n",
    "- debt_rate - % допустивших проскрочку в категории  \n",
    "\n",
    "**Вывод:**  \n",
    "Наихудшая статистика с возвратами кредитов в срок у тех, кто не был в официальном браке.  \n",
    "Те, кто состоит в браке сотавляют самую многочисленную категорию."
   ]
  },
  {
   "cell_type": "markdown",
   "id": "821b80a6",
   "metadata": {},
   "source": [
    "##### Зависимость между уровнем дохода и возвратом кредита в срок:  \n",
    "Как и ожидалось уровень дохода среди заёмщиков неравномерен.  \n",
    "С целью сравнения равных по размеру групп данные по уровню дохода были разделены на 8 категорий в каждую из которых попало примерно равное количество записей. Это приводит к немного неудобному для чтения человеком результата. Но, при необходимости, можно на этой основе содать более человеко-читаемую категоризацию."
   ]
  },
  {
   "cell_type": "code",
   "execution_count": 40,
   "id": "ba4ebc6c",
   "metadata": {
    "scrolled": false
   },
   "outputs": [
    {
     "data": {
      "text/html": [
       "<div>\n",
       "<style scoped>\n",
       "    .dataframe tbody tr th:only-of-type {\n",
       "        vertical-align: middle;\n",
       "    }\n",
       "\n",
       "    .dataframe tbody tr th {\n",
       "        vertical-align: top;\n",
       "    }\n",
       "\n",
       "    .dataframe thead tr th {\n",
       "        text-align: left;\n",
       "    }\n",
       "\n",
       "    .dataframe thead tr:last-of-type th {\n",
       "        text-align: right;\n",
       "    }\n",
       "</style>\n",
       "<table border=\"1\" class=\"dataframe\">\n",
       "  <thead>\n",
       "    <tr>\n",
       "      <th></th>\n",
       "      <th colspan=\"2\" halign=\"left\">debt</th>\n",
       "      <th>debt_rate</th>\n",
       "    </tr>\n",
       "    <tr>\n",
       "      <th></th>\n",
       "      <th>count</th>\n",
       "      <th>sum</th>\n",
       "      <th></th>\n",
       "    </tr>\n",
       "    <tr>\n",
       "      <th>income_category</th>\n",
       "      <th></th>\n",
       "      <th></th>\n",
       "      <th></th>\n",
       "    </tr>\n",
       "  </thead>\n",
       "  <tbody>\n",
       "    <tr>\n",
       "      <th>Категория 1: от 20667 до 84094 руб.</th>\n",
       "      <td>2696</td>\n",
       "      <td>207</td>\n",
       "      <td>7.678042</td>\n",
       "    </tr>\n",
       "    <tr>\n",
       "      <th>Категория 2: от 84094 до 108050 руб.</th>\n",
       "      <td>2696</td>\n",
       "      <td>225</td>\n",
       "      <td>8.345697</td>\n",
       "    </tr>\n",
       "    <tr>\n",
       "      <th>Категория 3: от 108050 до 128317 руб.</th>\n",
       "      <td>2696</td>\n",
       "      <td>234</td>\n",
       "      <td>8.679525</td>\n",
       "    </tr>\n",
       "    <tr>\n",
       "      <th>Категория 4: от 128317 до 142594 руб.</th>\n",
       "      <td>2695</td>\n",
       "      <td>241</td>\n",
       "      <td>8.942486</td>\n",
       "    </tr>\n",
       "    <tr>\n",
       "      <th>Категория 5: от 142594 до 167504 руб.</th>\n",
       "      <td>2637</td>\n",
       "      <td>233</td>\n",
       "      <td>8.835798</td>\n",
       "    </tr>\n",
       "    <tr>\n",
       "      <th>Категория 6: от 167504 до 196642 руб.</th>\n",
       "      <td>2637</td>\n",
       "      <td>217</td>\n",
       "      <td>8.229048</td>\n",
       "    </tr>\n",
       "    <tr>\n",
       "      <th>Категория 7: от 196642 до 255092 руб.</th>\n",
       "      <td>2637</td>\n",
       "      <td>192</td>\n",
       "      <td>7.281001</td>\n",
       "    </tr>\n",
       "    <tr>\n",
       "      <th>Категория 8: от 255092 до 2265604 руб.</th>\n",
       "      <td>2637</td>\n",
       "      <td>183</td>\n",
       "      <td>6.939704</td>\n",
       "    </tr>\n",
       "  </tbody>\n",
       "</table>\n",
       "</div>"
      ],
      "text/plain": [
       "                                        debt      debt_rate\n",
       "                                       count  sum          \n",
       "income_category                                            \n",
       "Категория 1: от 20667 до 84094 руб.     2696  207  7.678042\n",
       "Категория 2: от 84094 до 108050 руб.    2696  225  8.345697\n",
       "Категория 3: от 108050 до 128317 руб.   2696  234  8.679525\n",
       "Категория 4: от 128317 до 142594 руб.   2695  241  8.942486\n",
       "Категория 5: от 142594 до 167504 руб.   2637  233  8.835798\n",
       "Категория 6: от 167504 до 196642 руб.   2637  217  8.229048\n",
       "Категория 7: от 196642 до 255092 руб.   2637  192  7.281001\n",
       "Категория 8: от 255092 до 2265604 руб.  2637  183  6.939704"
      ]
     },
     "execution_count": 40,
     "metadata": {},
     "output_type": "execute_result"
    }
   ],
   "source": [
    "result_income.sort_values(by= 'income_category', ascending=True) # Отсортируем по возрастанию дохода"
   ]
  },
  {
   "cell_type": "markdown",
   "id": "1ebc0940",
   "metadata": {},
   "source": [
    "- debt count - количество клиентов в категории\n",
    "- debt sum - количество, допустивших просрочку по оплате\n",
    "- debt_rate - % допустивших проскрочку в категории  \n",
    "\n",
    "**Вывод:**\n",
    "Самой ответственной является категория с наиболее высоким уровнем дохода - от 250 тысяч руб. и выше.  \n",
    "Также более своевременно совершают платежи в самой низкой категориии - с доходом от 20 до 84 тыс. руб.  \n",
    "Это может быть связано с более низкими суммами кредита или разницей в критериях одобрения кредита.  \n",
    "В диапазоне 108 тысяч - 167 тысяч ситуация со своевремменностью платежей хуже всего и отличается до 2% от самых ответственных заёмщиков."
   ]
  },
  {
   "cell_type": "markdown",
   "id": "8afcd9ca",
   "metadata": {},
   "source": [
    "##### Как разные цели кредита влияют на его возврат в срок:  \n",
    "Категоризация на основе данных **purpose_category** путем выделения ключевых слов."
   ]
  },
  {
   "cell_type": "code",
   "execution_count": 41,
   "id": "86d63b94",
   "metadata": {
    "scrolled": true
   },
   "outputs": [
    {
     "data": {
      "text/html": [
       "<div>\n",
       "<style scoped>\n",
       "    .dataframe tbody tr th:only-of-type {\n",
       "        vertical-align: middle;\n",
       "    }\n",
       "\n",
       "    .dataframe tbody tr th {\n",
       "        vertical-align: top;\n",
       "    }\n",
       "\n",
       "    .dataframe thead tr th {\n",
       "        text-align: left;\n",
       "    }\n",
       "\n",
       "    .dataframe thead tr:last-of-type th {\n",
       "        text-align: right;\n",
       "    }\n",
       "</style>\n",
       "<table border=\"1\" class=\"dataframe\">\n",
       "  <thead>\n",
       "    <tr>\n",
       "      <th></th>\n",
       "      <th>purpose_category</th>\n",
       "      <th>debt</th>\n",
       "      <th>debt_rate</th>\n",
       "    </tr>\n",
       "    <tr>\n",
       "      <th></th>\n",
       "      <th>count</th>\n",
       "      <th>sum</th>\n",
       "      <th></th>\n",
       "    </tr>\n",
       "    <tr>\n",
       "      <th>purpose_category</th>\n",
       "      <th></th>\n",
       "      <th></th>\n",
       "      <th></th>\n",
       "    </tr>\n",
       "  </thead>\n",
       "  <tbody>\n",
       "    <tr>\n",
       "      <th>операции с автомобилем</th>\n",
       "      <td>4279</td>\n",
       "      <td>400</td>\n",
       "      <td>9.347978</td>\n",
       "    </tr>\n",
       "    <tr>\n",
       "      <th>получение образования</th>\n",
       "      <td>3988</td>\n",
       "      <td>369</td>\n",
       "      <td>9.252758</td>\n",
       "    </tr>\n",
       "    <tr>\n",
       "      <th>проведение свадьбы</th>\n",
       "      <td>2313</td>\n",
       "      <td>183</td>\n",
       "      <td>7.911803</td>\n",
       "    </tr>\n",
       "    <tr>\n",
       "      <th>операции с недвижимостью</th>\n",
       "      <td>10751</td>\n",
       "      <td>780</td>\n",
       "      <td>7.255139</td>\n",
       "    </tr>\n",
       "  </tbody>\n",
       "</table>\n",
       "</div>"
      ],
      "text/plain": [
       "                         purpose_category debt debt_rate\n",
       "                                    count  sum          \n",
       "purpose_category                                        \n",
       "операции с автомобилем               4279  400  9.347978\n",
       "получение образования                3988  369  9.252758\n",
       "проведение свадьбы                   2313  183  7.911803\n",
       "операции с недвижимостью            10751  780  7.255139"
      ]
     },
     "execution_count": 41,
     "metadata": {},
     "output_type": "execute_result"
    }
   ],
   "source": [
    "result_purpose.sort_values(by= 'debt_rate', ascending= False) # Отсортируем по наихудшей возвращаемости"
   ]
  },
  {
   "cell_type": "markdown",
   "id": "1571ae9c",
   "metadata": {},
   "source": [
    "- purpose_category count - количество клиентов в категории\n",
    "- debt sum - количество, допустивших просрочку по оплате\n",
    "- debt_rate - % допустивших проскрочку в категории  \n",
    "\n",
    "**Вывод:**\n",
    "Покупка автомобиля или образование - это те цели, при которых возврат кредита в срок более проблематичен.  \n",
    "Наилучшая ситуация при операциях с недвижимостью. И в то же самое время это наибольшая доля заёмщиков."
   ]
  }
 ],
 "metadata": {
  "ExecuteTimeLog": [
   {
    "duration": 48,
    "start_time": "2023-07-27T08:33:43.534Z"
   },
   {
    "duration": 512,
    "start_time": "2023-07-27T08:33:58.188Z"
   },
   {
    "duration": 20,
    "start_time": "2023-07-27T08:33:58.702Z"
   },
   {
    "duration": 18,
    "start_time": "2023-07-27T08:33:58.723Z"
   },
   {
    "duration": 10,
    "start_time": "2023-07-27T08:33:58.743Z"
   },
   {
    "duration": 40,
    "start_time": "2023-07-27T08:33:58.755Z"
   },
   {
    "duration": 4,
    "start_time": "2023-07-27T08:33:58.797Z"
   },
   {
    "duration": 10,
    "start_time": "2023-07-27T08:33:58.802Z"
   },
   {
    "duration": 6,
    "start_time": "2023-07-27T08:33:58.814Z"
   },
   {
    "duration": 22,
    "start_time": "2023-07-27T08:33:58.821Z"
   },
   {
    "duration": 13,
    "start_time": "2023-07-27T08:33:58.844Z"
   },
   {
    "duration": 41,
    "start_time": "2023-07-27T08:33:58.859Z"
   },
   {
    "duration": 10,
    "start_time": "2023-07-27T08:33:58.901Z"
   },
   {
    "duration": 43,
    "start_time": "2023-07-27T08:33:58.913Z"
   },
   {
    "duration": 12,
    "start_time": "2023-07-27T08:33:58.959Z"
   },
   {
    "duration": 19,
    "start_time": "2023-07-27T08:33:58.972Z"
   },
   {
    "duration": 16,
    "start_time": "2023-07-27T08:33:58.992Z"
   },
   {
    "duration": 4,
    "start_time": "2023-07-27T08:33:59.009Z"
   },
   {
    "duration": 13,
    "start_time": "2023-07-27T08:33:59.014Z"
   },
   {
    "duration": 6,
    "start_time": "2023-07-27T08:33:59.029Z"
   },
   {
    "duration": 3,
    "start_time": "2023-07-27T08:33:59.036Z"
   },
   {
    "duration": 12,
    "start_time": "2023-07-27T08:33:59.041Z"
   },
   {
    "duration": 21,
    "start_time": "2023-07-27T08:34:01.159Z"
   },
   {
    "duration": 5,
    "start_time": "2023-07-27T08:35:00.672Z"
   },
   {
    "duration": 26,
    "start_time": "2023-07-27T08:44:03.532Z"
   },
   {
    "duration": 201,
    "start_time": "2023-07-27T08:44:08.581Z"
   },
   {
    "duration": 3,
    "start_time": "2023-07-27T08:44:19.758Z"
   },
   {
    "duration": 10,
    "start_time": "2023-07-27T08:44:22.174Z"
   },
   {
    "duration": 2088,
    "start_time": "2023-07-27T08:57:11.269Z"
   },
   {
    "duration": 9,
    "start_time": "2023-07-27T08:57:55.438Z"
   },
   {
    "duration": 13,
    "start_time": "2023-07-27T09:00:36.475Z"
   },
   {
    "duration": 8,
    "start_time": "2023-07-27T09:04:31.319Z"
   },
   {
    "duration": 14,
    "start_time": "2023-07-27T09:04:52.785Z"
   },
   {
    "duration": 15,
    "start_time": "2023-07-27T09:06:19.784Z"
   },
   {
    "duration": 13,
    "start_time": "2023-07-27T09:06:40.082Z"
   },
   {
    "duration": 14,
    "start_time": "2023-07-27T09:07:08.384Z"
   },
   {
    "duration": 15,
    "start_time": "2023-07-27T09:07:37.202Z"
   },
   {
    "duration": 26,
    "start_time": "2023-07-27T09:15:32.283Z"
   },
   {
    "duration": 16,
    "start_time": "2023-07-27T09:15:51.911Z"
   },
   {
    "duration": 16,
    "start_time": "2023-07-27T09:16:22.840Z"
   },
   {
    "duration": 15,
    "start_time": "2023-07-27T09:16:37.600Z"
   },
   {
    "duration": 13,
    "start_time": "2023-07-27T09:16:41.534Z"
   },
   {
    "duration": 88,
    "start_time": "2023-07-27T09:16:54.264Z"
   },
   {
    "duration": 14,
    "start_time": "2023-07-27T09:16:54.354Z"
   },
   {
    "duration": 27,
    "start_time": "2023-07-27T09:16:54.370Z"
   },
   {
    "duration": 18,
    "start_time": "2023-07-27T09:16:54.399Z"
   },
   {
    "duration": 36,
    "start_time": "2023-07-27T09:16:54.419Z"
   },
   {
    "duration": 3,
    "start_time": "2023-07-27T09:16:54.457Z"
   },
   {
    "duration": 48,
    "start_time": "2023-07-27T09:16:54.462Z"
   },
   {
    "duration": 44,
    "start_time": "2023-07-27T09:16:54.511Z"
   },
   {
    "duration": 41,
    "start_time": "2023-07-27T09:16:54.557Z"
   },
   {
    "duration": 39,
    "start_time": "2023-07-27T09:16:54.600Z"
   },
   {
    "duration": 67,
    "start_time": "2023-07-27T09:16:54.640Z"
   },
   {
    "duration": 10,
    "start_time": "2023-07-27T09:16:54.709Z"
   },
   {
    "duration": 17,
    "start_time": "2023-07-27T09:16:54.720Z"
   },
   {
    "duration": 25,
    "start_time": "2023-07-27T09:16:54.739Z"
   },
   {
    "duration": 46,
    "start_time": "2023-07-27T09:16:54.765Z"
   },
   {
    "duration": 17,
    "start_time": "2023-07-27T09:16:54.813Z"
   },
   {
    "duration": 4,
    "start_time": "2023-07-27T09:16:54.832Z"
   },
   {
    "duration": 33,
    "start_time": "2023-07-27T09:16:54.837Z"
   },
   {
    "duration": 13,
    "start_time": "2023-07-27T09:16:54.876Z"
   },
   {
    "duration": 17,
    "start_time": "2023-07-27T09:16:54.892Z"
   },
   {
    "duration": 17,
    "start_time": "2023-07-27T09:16:54.911Z"
   },
   {
    "duration": 32,
    "start_time": "2023-07-27T09:16:54.930Z"
   },
   {
    "duration": 22,
    "start_time": "2023-07-27T09:16:54.963Z"
   },
   {
    "duration": 16,
    "start_time": "2023-07-27T09:16:57.528Z"
   },
   {
    "duration": 21,
    "start_time": "2023-07-27T09:17:00.642Z"
   },
   {
    "duration": 484,
    "start_time": "2023-07-27T09:17:39.044Z"
   },
   {
    "duration": 21,
    "start_time": "2023-07-27T09:17:39.530Z"
   },
   {
    "duration": 28,
    "start_time": "2023-07-27T09:17:39.552Z"
   },
   {
    "duration": 13,
    "start_time": "2023-07-27T09:17:39.582Z"
   },
   {
    "duration": 38,
    "start_time": "2023-07-27T09:17:39.596Z"
   },
   {
    "duration": 5,
    "start_time": "2023-07-27T09:17:39.635Z"
   },
   {
    "duration": 11,
    "start_time": "2023-07-27T09:17:39.641Z"
   },
   {
    "duration": 11,
    "start_time": "2023-07-27T09:17:39.653Z"
   },
   {
    "duration": 11,
    "start_time": "2023-07-27T09:17:39.674Z"
   },
   {
    "duration": 10,
    "start_time": "2023-07-27T09:17:39.692Z"
   },
   {
    "duration": 50,
    "start_time": "2023-07-27T09:17:39.703Z"
   },
   {
    "duration": 9,
    "start_time": "2023-07-27T09:17:39.755Z"
   },
   {
    "duration": 14,
    "start_time": "2023-07-27T09:17:39.765Z"
   },
   {
    "duration": 24,
    "start_time": "2023-07-27T09:17:39.780Z"
   },
   {
    "duration": 18,
    "start_time": "2023-07-27T09:17:39.805Z"
   },
   {
    "duration": 15,
    "start_time": "2023-07-27T09:17:39.824Z"
   },
   {
    "duration": 4,
    "start_time": "2023-07-27T09:17:39.840Z"
   },
   {
    "duration": 16,
    "start_time": "2023-07-27T09:17:39.845Z"
   },
   {
    "duration": 6,
    "start_time": "2023-07-27T09:17:39.862Z"
   },
   {
    "duration": 7,
    "start_time": "2023-07-27T09:17:39.881Z"
   },
   {
    "duration": 21,
    "start_time": "2023-07-27T09:17:39.889Z"
   },
   {
    "duration": 16,
    "start_time": "2023-07-27T09:17:39.911Z"
   },
   {
    "duration": 13,
    "start_time": "2023-07-27T09:17:39.928Z"
   },
   {
    "duration": 16,
    "start_time": "2023-07-27T09:17:39.942Z"
   },
   {
    "duration": 72,
    "start_time": "2023-07-27T09:17:39.960Z"
   },
   {
    "duration": 0,
    "start_time": "2023-07-27T09:17:40.034Z"
   },
   {
    "duration": 0,
    "start_time": "2023-07-27T09:17:40.035Z"
   },
   {
    "duration": 0,
    "start_time": "2023-07-27T09:17:40.036Z"
   },
   {
    "duration": 14,
    "start_time": "2023-07-27T09:17:48.540Z"
   },
   {
    "duration": 11,
    "start_time": "2023-07-27T09:22:36.769Z"
   },
   {
    "duration": 15,
    "start_time": "2023-07-27T09:27:13.934Z"
   },
   {
    "duration": 15,
    "start_time": "2023-07-27T09:27:49.389Z"
   },
   {
    "duration": 15,
    "start_time": "2023-07-27T09:28:04.255Z"
   },
   {
    "duration": 11,
    "start_time": "2023-07-27T09:42:47.598Z"
   },
   {
    "duration": 33,
    "start_time": "2023-07-27T09:43:02.501Z"
   },
   {
    "duration": 15,
    "start_time": "2023-07-27T09:43:38.583Z"
   },
   {
    "duration": 69,
    "start_time": "2023-07-27T09:43:48.578Z"
   },
   {
    "duration": 15,
    "start_time": "2023-07-27T09:43:48.649Z"
   },
   {
    "duration": 34,
    "start_time": "2023-07-27T09:43:48.665Z"
   },
   {
    "duration": 9,
    "start_time": "2023-07-27T09:43:48.701Z"
   },
   {
    "duration": 34,
    "start_time": "2023-07-27T09:43:48.712Z"
   },
   {
    "duration": 3,
    "start_time": "2023-07-27T09:43:48.748Z"
   },
   {
    "duration": 12,
    "start_time": "2023-07-27T09:43:48.752Z"
   },
   {
    "duration": 10,
    "start_time": "2023-07-27T09:43:48.765Z"
   },
   {
    "duration": 8,
    "start_time": "2023-07-27T09:43:48.776Z"
   },
   {
    "duration": 5,
    "start_time": "2023-07-27T09:43:48.786Z"
   },
   {
    "duration": 43,
    "start_time": "2023-07-27T09:43:48.792Z"
   },
   {
    "duration": 9,
    "start_time": "2023-07-27T09:43:48.837Z"
   },
   {
    "duration": 16,
    "start_time": "2023-07-27T09:43:48.847Z"
   },
   {
    "duration": 21,
    "start_time": "2023-07-27T09:43:48.874Z"
   },
   {
    "duration": 26,
    "start_time": "2023-07-27T09:43:48.897Z"
   },
   {
    "duration": 15,
    "start_time": "2023-07-27T09:43:48.925Z"
   },
   {
    "duration": 4,
    "start_time": "2023-07-27T09:43:48.941Z"
   },
   {
    "duration": 19,
    "start_time": "2023-07-27T09:43:48.946Z"
   },
   {
    "duration": 6,
    "start_time": "2023-07-27T09:43:48.967Z"
   },
   {
    "duration": 13,
    "start_time": "2023-07-27T09:43:48.974Z"
   },
   {
    "duration": 33,
    "start_time": "2023-07-27T09:43:48.988Z"
   },
   {
    "duration": 23,
    "start_time": "2023-07-27T09:43:49.022Z"
   },
   {
    "duration": 20,
    "start_time": "2023-07-27T09:43:49.046Z"
   },
   {
    "duration": 15,
    "start_time": "2023-07-27T09:43:51.295Z"
   },
   {
    "duration": 3,
    "start_time": "2023-07-27T09:44:11.064Z"
   },
   {
    "duration": 13,
    "start_time": "2023-07-27T09:44:15.807Z"
   },
   {
    "duration": 13,
    "start_time": "2023-07-27T09:44:32.637Z"
   },
   {
    "duration": 9,
    "start_time": "2023-07-27T09:44:55.793Z"
   },
   {
    "duration": 12,
    "start_time": "2023-07-27T09:45:19.839Z"
   },
   {
    "duration": 91,
    "start_time": "2023-07-27T09:49:13.627Z"
   },
   {
    "duration": 17,
    "start_time": "2023-07-27T09:49:19.107Z"
   },
   {
    "duration": 11,
    "start_time": "2023-07-27T09:50:05.027Z"
   },
   {
    "duration": 17,
    "start_time": "2023-07-27T09:52:40.244Z"
   },
   {
    "duration": 13,
    "start_time": "2023-07-27T09:53:23.949Z"
   },
   {
    "duration": 12,
    "start_time": "2023-07-27T09:53:45.165Z"
   },
   {
    "duration": 11,
    "start_time": "2023-07-27T09:54:11.568Z"
   },
   {
    "duration": 11,
    "start_time": "2023-07-27T09:54:25.996Z"
   },
   {
    "duration": 12,
    "start_time": "2023-07-27T09:54:54.301Z"
   },
   {
    "duration": 14,
    "start_time": "2023-07-27T09:55:07.139Z"
   },
   {
    "duration": 12,
    "start_time": "2023-07-27T10:05:17.421Z"
   },
   {
    "duration": 21,
    "start_time": "2023-07-27T10:06:26.755Z"
   },
   {
    "duration": 21,
    "start_time": "2023-07-27T10:07:41.519Z"
   },
   {
    "duration": 26,
    "start_time": "2023-07-27T10:08:13.488Z"
   },
   {
    "duration": 75,
    "start_time": "2023-07-27T10:09:01.890Z"
   },
   {
    "duration": 20,
    "start_time": "2023-07-27T10:09:06.742Z"
   },
   {
    "duration": 11,
    "start_time": "2023-07-27T10:09:28.605Z"
   },
   {
    "duration": 9,
    "start_time": "2023-07-27T10:24:51.508Z"
   },
   {
    "duration": 838,
    "start_time": "2023-07-27T10:26:07.425Z"
   },
   {
    "duration": 68,
    "start_time": "2023-07-27T10:26:52.567Z"
   },
   {
    "duration": 873,
    "start_time": "2023-07-27T10:27:26.345Z"
   },
   {
    "duration": 65,
    "start_time": "2023-07-27T10:27:53.895Z"
   },
   {
    "duration": 851,
    "start_time": "2023-07-27T10:28:06.137Z"
   },
   {
    "duration": 774,
    "start_time": "2023-07-27T10:28:46.518Z"
   },
   {
    "duration": 7,
    "start_time": "2023-07-27T10:29:33.969Z"
   },
   {
    "duration": 9,
    "start_time": "2023-07-27T10:30:00.843Z"
   },
   {
    "duration": 22,
    "start_time": "2023-07-27T10:31:29.714Z"
   },
   {
    "duration": 14,
    "start_time": "2023-07-27T10:38:34.669Z"
   },
   {
    "duration": 24,
    "start_time": "2023-07-27T10:43:19.999Z"
   },
   {
    "duration": 25,
    "start_time": "2023-07-27T10:44:09.523Z"
   },
   {
    "duration": 29,
    "start_time": "2023-07-27T10:44:57.323Z"
   },
   {
    "duration": 1613,
    "start_time": "2023-07-27T10:48:01.066Z"
   },
   {
    "duration": 1727,
    "start_time": "2023-07-27T10:48:10.822Z"
   },
   {
    "duration": 11,
    "start_time": "2023-07-27T10:48:22.656Z"
   },
   {
    "duration": 41,
    "start_time": "2023-07-27T10:55:27.150Z"
   },
   {
    "duration": 28,
    "start_time": "2023-07-27T10:56:47.083Z"
   },
   {
    "duration": 23,
    "start_time": "2023-07-27T10:56:57.903Z"
   },
   {
    "duration": 1092,
    "start_time": "2023-07-27T11:25:41.647Z"
   },
   {
    "duration": 9,
    "start_time": "2023-07-27T11:25:55.962Z"
   },
   {
    "duration": 12,
    "start_time": "2023-07-27T11:27:06.296Z"
   },
   {
    "duration": 139,
    "start_time": "2023-07-27T11:31:47.047Z"
   },
   {
    "duration": 10,
    "start_time": "2023-07-27T11:31:58.288Z"
   },
   {
    "duration": 101,
    "start_time": "2023-07-27T11:32:39.712Z"
   },
   {
    "duration": 125,
    "start_time": "2023-07-27T11:33:04.272Z"
   },
   {
    "duration": 90,
    "start_time": "2023-07-27T11:33:22.467Z"
   },
   {
    "duration": 9,
    "start_time": "2023-07-27T11:34:09.871Z"
   },
   {
    "duration": 5,
    "start_time": "2023-07-27T11:34:26.663Z"
   },
   {
    "duration": 6,
    "start_time": "2023-07-27T11:34:59.587Z"
   },
   {
    "duration": 86,
    "start_time": "2023-07-27T11:38:14.372Z"
   },
   {
    "duration": 94,
    "start_time": "2023-07-27T11:38:22.107Z"
   },
   {
    "duration": 4,
    "start_time": "2023-07-27T11:41:39.201Z"
   },
   {
    "duration": 10,
    "start_time": "2023-07-27T11:41:46.386Z"
   },
   {
    "duration": 1331,
    "start_time": "2023-07-27T11:43:11.491Z"
   },
   {
    "duration": 12,
    "start_time": "2023-07-27T11:43:28.203Z"
   },
   {
    "duration": 19,
    "start_time": "2023-07-27T11:43:34.958Z"
   },
   {
    "duration": 15,
    "start_time": "2023-07-27T11:44:05.091Z"
   },
   {
    "duration": 29,
    "start_time": "2023-07-27T12:05:05.343Z"
   },
   {
    "duration": 19,
    "start_time": "2023-07-27T12:06:19.967Z"
   },
   {
    "duration": 21,
    "start_time": "2023-07-27T12:12:49.712Z"
   },
   {
    "duration": 21,
    "start_time": "2023-07-27T12:13:15.750Z"
   },
   {
    "duration": 23,
    "start_time": "2023-07-27T12:13:37.145Z"
   },
   {
    "duration": 4,
    "start_time": "2023-07-27T12:16:43.900Z"
   },
   {
    "duration": 5,
    "start_time": "2023-07-27T12:17:03.074Z"
   },
   {
    "duration": 23,
    "start_time": "2023-07-27T12:17:43.921Z"
   },
   {
    "duration": 58,
    "start_time": "2023-07-27T12:19:13.265Z"
   },
   {
    "duration": 33,
    "start_time": "2023-07-27T12:23:43.668Z"
   },
   {
    "duration": 5,
    "start_time": "2023-07-27T12:23:47.255Z"
   },
   {
    "duration": 57,
    "start_time": "2023-07-27T12:23:49.955Z"
   },
   {
    "duration": 5,
    "start_time": "2023-07-27T12:24:23.251Z"
   },
   {
    "duration": 73,
    "start_time": "2023-07-27T12:24:25.047Z"
   },
   {
    "duration": 24,
    "start_time": "2023-07-27T12:24:41.399Z"
   },
   {
    "duration": 4,
    "start_time": "2023-07-27T12:24:44.451Z"
   },
   {
    "duration": 59,
    "start_time": "2023-07-27T12:24:46.865Z"
   },
   {
    "duration": 88,
    "start_time": "2023-07-27T12:24:58.073Z"
   },
   {
    "duration": 20,
    "start_time": "2023-07-27T12:24:58.163Z"
   },
   {
    "duration": 33,
    "start_time": "2023-07-27T12:24:58.185Z"
   },
   {
    "duration": 28,
    "start_time": "2023-07-27T12:24:58.220Z"
   },
   {
    "duration": 49,
    "start_time": "2023-07-27T12:24:58.252Z"
   },
   {
    "duration": 4,
    "start_time": "2023-07-27T12:24:58.303Z"
   },
   {
    "duration": 35,
    "start_time": "2023-07-27T12:24:58.309Z"
   },
   {
    "duration": 8,
    "start_time": "2023-07-27T12:24:58.346Z"
   },
   {
    "duration": 7,
    "start_time": "2023-07-27T12:24:58.356Z"
   },
   {
    "duration": 21,
    "start_time": "2023-07-27T12:24:58.365Z"
   },
   {
    "duration": 47,
    "start_time": "2023-07-27T12:24:58.388Z"
   },
   {
    "duration": 12,
    "start_time": "2023-07-27T12:24:58.438Z"
   },
   {
    "duration": 17,
    "start_time": "2023-07-27T12:24:58.452Z"
   },
   {
    "duration": 20,
    "start_time": "2023-07-27T12:24:58.473Z"
   },
   {
    "duration": 63,
    "start_time": "2023-07-27T12:24:58.495Z"
   },
   {
    "duration": 20,
    "start_time": "2023-07-27T12:24:58.559Z"
   },
   {
    "duration": 14,
    "start_time": "2023-07-27T12:24:58.581Z"
   },
   {
    "duration": 37,
    "start_time": "2023-07-27T12:24:58.596Z"
   },
   {
    "duration": 37,
    "start_time": "2023-07-27T12:24:58.635Z"
   },
   {
    "duration": 21,
    "start_time": "2023-07-27T12:24:58.674Z"
   },
   {
    "duration": 13,
    "start_time": "2023-07-27T12:24:58.697Z"
   },
   {
    "duration": 25,
    "start_time": "2023-07-27T12:24:58.712Z"
   },
   {
    "duration": 20,
    "start_time": "2023-07-27T12:24:58.738Z"
   },
   {
    "duration": 34,
    "start_time": "2023-07-27T12:24:58.760Z"
   },
   {
    "duration": 44,
    "start_time": "2023-07-27T12:24:58.796Z"
   },
   {
    "duration": 84,
    "start_time": "2023-07-27T12:24:58.842Z"
   },
   {
    "duration": 51,
    "start_time": "2023-07-27T12:24:58.928Z"
   },
   {
    "duration": 7,
    "start_time": "2023-07-27T12:24:58.980Z"
   },
   {
    "duration": 71,
    "start_time": "2023-07-27T12:24:58.989Z"
   },
   {
    "duration": 97,
    "start_time": "2023-07-27T12:24:59.062Z"
   },
   {
    "duration": 108,
    "start_time": "2023-07-27T12:24:59.160Z"
   },
   {
    "duration": 32,
    "start_time": "2023-07-27T12:24:59.274Z"
   },
   {
    "duration": 6,
    "start_time": "2023-07-27T12:24:59.309Z"
   },
   {
    "duration": 97,
    "start_time": "2023-07-27T12:25:02.052Z"
   },
   {
    "duration": 5,
    "start_time": "2023-07-27T12:26:06.353Z"
   },
   {
    "duration": 60,
    "start_time": "2023-07-27T12:26:08.783Z"
   },
   {
    "duration": 61,
    "start_time": "2023-07-27T12:27:17.712Z"
   },
   {
    "duration": 73,
    "start_time": "2023-07-27T12:27:30.912Z"
   },
   {
    "duration": 17,
    "start_time": "2023-07-27T12:40:00.144Z"
   },
   {
    "duration": 14,
    "start_time": "2023-07-27T12:40:08.366Z"
   },
   {
    "duration": 14,
    "start_time": "2023-07-27T12:40:55.364Z"
   },
   {
    "duration": 19,
    "start_time": "2023-07-27T12:42:04.115Z"
   },
   {
    "duration": 1437,
    "start_time": "2023-07-27T12:42:46.991Z"
   },
   {
    "duration": 24,
    "start_time": "2023-07-27T12:43:03.887Z"
   },
   {
    "duration": 20,
    "start_time": "2023-07-27T12:44:30.891Z"
   },
   {
    "duration": 27,
    "start_time": "2023-07-27T12:44:40.480Z"
   },
   {
    "duration": 26,
    "start_time": "2023-07-27T12:44:57.847Z"
   },
   {
    "duration": 20,
    "start_time": "2023-07-27T13:01:57.554Z"
   },
   {
    "duration": 520,
    "start_time": "2023-07-27T17:38:38.785Z"
   },
   {
    "duration": 23,
    "start_time": "2023-07-27T17:38:39.307Z"
   },
   {
    "duration": 31,
    "start_time": "2023-07-27T17:38:39.332Z"
   },
   {
    "duration": 18,
    "start_time": "2023-07-27T17:38:39.371Z"
   },
   {
    "duration": 33,
    "start_time": "2023-07-27T17:38:39.391Z"
   },
   {
    "duration": 3,
    "start_time": "2023-07-27T17:38:39.426Z"
   },
   {
    "duration": 10,
    "start_time": "2023-07-27T17:38:39.431Z"
   },
   {
    "duration": 24,
    "start_time": "2023-07-27T17:38:39.443Z"
   },
   {
    "duration": 16,
    "start_time": "2023-07-27T17:38:39.476Z"
   },
   {
    "duration": 8,
    "start_time": "2023-07-27T17:38:39.494Z"
   },
   {
    "duration": 68,
    "start_time": "2023-07-27T17:38:39.503Z"
   },
   {
    "duration": 13,
    "start_time": "2023-07-27T17:38:39.582Z"
   },
   {
    "duration": 5,
    "start_time": "2023-07-27T17:38:39.597Z"
   },
   {
    "duration": 13,
    "start_time": "2023-07-27T17:38:39.604Z"
   },
   {
    "duration": 35,
    "start_time": "2023-07-27T17:38:39.619Z"
   },
   {
    "duration": 31,
    "start_time": "2023-07-27T17:38:39.656Z"
   },
   {
    "duration": 4,
    "start_time": "2023-07-27T17:38:39.690Z"
   },
   {
    "duration": 10,
    "start_time": "2023-07-27T17:38:39.696Z"
   },
   {
    "duration": 13,
    "start_time": "2023-07-27T17:38:39.708Z"
   },
   {
    "duration": 7,
    "start_time": "2023-07-27T17:38:39.722Z"
   },
   {
    "duration": 15,
    "start_time": "2023-07-27T17:38:39.731Z"
   },
   {
    "duration": 28,
    "start_time": "2023-07-27T17:38:39.748Z"
   },
   {
    "duration": 9,
    "start_time": "2023-07-27T17:38:39.778Z"
   },
   {
    "duration": 14,
    "start_time": "2023-07-27T17:38:39.789Z"
   },
   {
    "duration": 24,
    "start_time": "2023-07-27T17:38:39.804Z"
   },
   {
    "duration": 47,
    "start_time": "2023-07-27T17:38:39.829Z"
   },
   {
    "duration": 40,
    "start_time": "2023-07-27T17:38:39.878Z"
   },
   {
    "duration": 5,
    "start_time": "2023-07-27T17:38:39.919Z"
   },
   {
    "duration": 7,
    "start_time": "2023-07-27T17:38:39.926Z"
   },
   {
    "duration": 36,
    "start_time": "2023-07-27T17:38:39.934Z"
   },
   {
    "duration": 1126,
    "start_time": "2023-07-27T17:38:39.972Z"
   },
   {
    "duration": 91,
    "start_time": "2023-07-27T17:38:41.100Z"
   },
   {
    "duration": 12,
    "start_time": "2023-07-27T17:38:41.196Z"
   },
   {
    "duration": 183,
    "start_time": "2023-07-27T17:38:41.210Z"
   },
   {
    "duration": 88,
    "start_time": "2023-07-27T17:38:41.397Z"
   },
   {
    "duration": 73,
    "start_time": "2023-07-27T17:38:41.494Z"
   },
   {
    "duration": 101,
    "start_time": "2023-07-28T05:33:05.439Z"
   },
   {
    "duration": 172,
    "start_time": "2023-07-28T05:33:46.927Z"
   },
   {
    "duration": 196,
    "start_time": "2023-07-28T05:34:19.658Z"
   },
   {
    "duration": 123,
    "start_time": "2023-07-28T05:34:39.518Z"
   },
   {
    "duration": 48,
    "start_time": "2023-07-28T05:39:39.388Z"
   },
   {
    "duration": 669,
    "start_time": "2023-07-28T05:39:49.713Z"
   },
   {
    "duration": 19,
    "start_time": "2023-07-28T05:39:50.384Z"
   },
   {
    "duration": 16,
    "start_time": "2023-07-28T05:39:50.404Z"
   },
   {
    "duration": 8,
    "start_time": "2023-07-28T05:39:50.422Z"
   },
   {
    "duration": 31,
    "start_time": "2023-07-28T05:39:50.431Z"
   },
   {
    "duration": 3,
    "start_time": "2023-07-28T05:39:50.463Z"
   },
   {
    "duration": 33,
    "start_time": "2023-07-28T05:39:50.467Z"
   },
   {
    "duration": 5,
    "start_time": "2023-07-28T05:39:50.501Z"
   },
   {
    "duration": 14,
    "start_time": "2023-07-28T05:39:50.507Z"
   },
   {
    "duration": 12,
    "start_time": "2023-07-28T05:39:50.523Z"
   },
   {
    "duration": 83,
    "start_time": "2023-07-28T05:39:50.536Z"
   },
   {
    "duration": 45,
    "start_time": "2023-07-28T05:39:50.621Z"
   },
   {
    "duration": 131,
    "start_time": "2023-07-28T05:39:50.668Z"
   },
   {
    "duration": 31,
    "start_time": "2023-07-28T05:39:50.800Z"
   },
   {
    "duration": 22,
    "start_time": "2023-07-28T05:39:50.832Z"
   },
   {
    "duration": 16,
    "start_time": "2023-07-28T05:39:50.855Z"
   },
   {
    "duration": 3,
    "start_time": "2023-07-28T05:39:50.872Z"
   },
   {
    "duration": 13,
    "start_time": "2023-07-28T05:39:50.877Z"
   },
   {
    "duration": 17,
    "start_time": "2023-07-28T05:39:50.891Z"
   },
   {
    "duration": 22,
    "start_time": "2023-07-28T05:39:50.909Z"
   },
   {
    "duration": 37,
    "start_time": "2023-07-28T05:39:50.933Z"
   },
   {
    "duration": 19,
    "start_time": "2023-07-28T05:39:50.971Z"
   },
   {
    "duration": 9,
    "start_time": "2023-07-28T05:39:50.992Z"
   },
   {
    "duration": 17,
    "start_time": "2023-07-28T05:39:51.002Z"
   },
   {
    "duration": 22,
    "start_time": "2023-07-28T05:39:51.020Z"
   },
   {
    "duration": 22,
    "start_time": "2023-07-28T05:39:51.043Z"
   },
   {
    "duration": 33,
    "start_time": "2023-07-28T05:39:51.067Z"
   },
   {
    "duration": 3,
    "start_time": "2023-07-28T05:39:51.103Z"
   },
   {
    "duration": 20,
    "start_time": "2023-07-28T05:39:51.108Z"
   },
   {
    "duration": 11,
    "start_time": "2023-07-28T05:39:51.129Z"
   },
   {
    "duration": 1021,
    "start_time": "2023-07-28T05:39:51.141Z"
   },
   {
    "duration": 21,
    "start_time": "2023-07-28T05:39:52.163Z"
   },
   {
    "duration": 20,
    "start_time": "2023-07-28T05:39:52.186Z"
   },
   {
    "duration": 96,
    "start_time": "2023-07-28T05:39:52.208Z"
   },
   {
    "duration": 23,
    "start_time": "2023-07-28T05:39:52.306Z"
   },
   {
    "duration": 30,
    "start_time": "2023-07-28T05:39:52.331Z"
   },
   {
    "duration": 17,
    "start_time": "2023-07-28T05:39:59.745Z"
   },
   {
    "duration": 9,
    "start_time": "2023-07-28T05:40:46.951Z"
   },
   {
    "duration": 87,
    "start_time": "2023-07-28T05:41:22.284Z"
   },
   {
    "duration": 130,
    "start_time": "2023-07-28T05:42:14.037Z"
   },
   {
    "duration": 74,
    "start_time": "2023-07-28T05:42:24.863Z"
   },
   {
    "duration": 70,
    "start_time": "2023-07-28T05:42:39.205Z"
   },
   {
    "duration": 85,
    "start_time": "2023-07-28T05:44:36.024Z"
   },
   {
    "duration": 71,
    "start_time": "2023-07-28T05:44:52.453Z"
   },
   {
    "duration": 12,
    "start_time": "2023-07-28T06:14:22.507Z"
   },
   {
    "duration": 24,
    "start_time": "2023-07-28T06:14:33.026Z"
   },
   {
    "duration": 15,
    "start_time": "2023-07-28T06:15:02.326Z"
   },
   {
    "duration": 13,
    "start_time": "2023-07-28T06:23:17.412Z"
   },
   {
    "duration": 13,
    "start_time": "2023-07-28T06:26:25.198Z"
   },
   {
    "duration": 13,
    "start_time": "2023-07-28T06:29:31.494Z"
   },
   {
    "duration": 105,
    "start_time": "2023-07-28T06:33:37.545Z"
   },
   {
    "duration": 10,
    "start_time": "2023-07-28T06:34:43.764Z"
   },
   {
    "duration": 490,
    "start_time": "2023-07-28T06:40:05.236Z"
   },
   {
    "duration": 22,
    "start_time": "2023-07-28T06:40:05.728Z"
   },
   {
    "duration": 25,
    "start_time": "2023-07-28T06:40:05.751Z"
   },
   {
    "duration": 16,
    "start_time": "2023-07-28T06:40:05.778Z"
   },
   {
    "duration": 42,
    "start_time": "2023-07-28T06:40:05.796Z"
   },
   {
    "duration": 4,
    "start_time": "2023-07-28T06:40:05.839Z"
   },
   {
    "duration": 24,
    "start_time": "2023-07-28T06:40:05.844Z"
   },
   {
    "duration": 10,
    "start_time": "2023-07-28T06:40:05.869Z"
   },
   {
    "duration": 26,
    "start_time": "2023-07-28T06:40:05.881Z"
   },
   {
    "duration": 25,
    "start_time": "2023-07-28T06:40:05.912Z"
   },
   {
    "duration": 77,
    "start_time": "2023-07-28T06:40:05.939Z"
   },
   {
    "duration": 11,
    "start_time": "2023-07-28T06:40:06.018Z"
   },
   {
    "duration": 14,
    "start_time": "2023-07-28T06:40:06.031Z"
   },
   {
    "duration": 45,
    "start_time": "2023-07-28T06:40:06.047Z"
   },
   {
    "duration": 54,
    "start_time": "2023-07-28T06:40:06.095Z"
   },
   {
    "duration": 22,
    "start_time": "2023-07-28T06:40:06.150Z"
   },
   {
    "duration": 34,
    "start_time": "2023-07-28T06:40:06.175Z"
   },
   {
    "duration": 34,
    "start_time": "2023-07-28T06:40:06.210Z"
   },
   {
    "duration": 29,
    "start_time": "2023-07-28T06:40:06.246Z"
   },
   {
    "duration": 16,
    "start_time": "2023-07-28T06:40:06.276Z"
   },
   {
    "duration": 29,
    "start_time": "2023-07-28T06:40:06.293Z"
   },
   {
    "duration": 10,
    "start_time": "2023-07-28T06:40:06.324Z"
   },
   {
    "duration": 20,
    "start_time": "2023-07-28T06:40:06.336Z"
   },
   {
    "duration": 27,
    "start_time": "2023-07-28T06:40:06.357Z"
   },
   {
    "duration": 35,
    "start_time": "2023-07-28T06:40:06.385Z"
   },
   {
    "duration": 26,
    "start_time": "2023-07-28T06:40:06.421Z"
   },
   {
    "duration": 22,
    "start_time": "2023-07-28T06:40:06.449Z"
   },
   {
    "duration": 26,
    "start_time": "2023-07-28T06:40:06.474Z"
   },
   {
    "duration": 5,
    "start_time": "2023-07-28T06:40:06.501Z"
   },
   {
    "duration": 16,
    "start_time": "2023-07-28T06:40:06.507Z"
   },
   {
    "duration": 899,
    "start_time": "2023-07-28T06:40:06.524Z"
   },
   {
    "duration": 22,
    "start_time": "2023-07-28T06:40:07.425Z"
   },
   {
    "duration": 4,
    "start_time": "2023-07-28T06:40:07.448Z"
   },
   {
    "duration": 82,
    "start_time": "2023-07-28T06:40:07.454Z"
   },
   {
    "duration": 22,
    "start_time": "2023-07-28T06:40:07.537Z"
   },
   {
    "duration": 21,
    "start_time": "2023-07-28T06:40:07.560Z"
   },
   {
    "duration": 83,
    "start_time": "2023-07-28T06:40:07.582Z"
   },
   {
    "duration": 11,
    "start_time": "2023-07-28T06:40:07.666Z"
   },
   {
    "duration": 18,
    "start_time": "2023-07-28T06:40:07.678Z"
   },
   {
    "duration": 15,
    "start_time": "2023-07-28T06:40:07.700Z"
   },
   {
    "duration": 12,
    "start_time": "2023-07-28T06:40:07.717Z"
   },
   {
    "duration": 487,
    "start_time": "2023-07-28T06:41:30.987Z"
   },
   {
    "duration": 21,
    "start_time": "2023-07-28T06:41:31.476Z"
   },
   {
    "duration": 43,
    "start_time": "2023-07-28T06:41:31.498Z"
   },
   {
    "duration": 29,
    "start_time": "2023-07-28T06:41:31.543Z"
   },
   {
    "duration": 65,
    "start_time": "2023-07-28T06:41:31.574Z"
   },
   {
    "duration": 21,
    "start_time": "2023-07-28T06:41:31.641Z"
   },
   {
    "duration": 50,
    "start_time": "2023-07-28T06:41:31.663Z"
   },
   {
    "duration": 37,
    "start_time": "2023-07-28T06:41:31.715Z"
   },
   {
    "duration": 47,
    "start_time": "2023-07-28T06:41:31.753Z"
   },
   {
    "duration": 42,
    "start_time": "2023-07-28T06:41:31.804Z"
   },
   {
    "duration": 49,
    "start_time": "2023-07-28T06:41:31.848Z"
   },
   {
    "duration": 47,
    "start_time": "2023-07-28T06:41:31.898Z"
   },
   {
    "duration": 20,
    "start_time": "2023-07-28T06:41:31.946Z"
   },
   {
    "duration": 33,
    "start_time": "2023-07-28T06:41:31.968Z"
   },
   {
    "duration": 47,
    "start_time": "2023-07-28T06:41:32.002Z"
   },
   {
    "duration": 41,
    "start_time": "2023-07-28T06:41:32.051Z"
   },
   {
    "duration": 24,
    "start_time": "2023-07-28T06:41:32.094Z"
   },
   {
    "duration": 38,
    "start_time": "2023-07-28T06:41:32.119Z"
   },
   {
    "duration": 63,
    "start_time": "2023-07-28T06:41:32.159Z"
   },
   {
    "duration": 91,
    "start_time": "2023-07-28T06:41:32.223Z"
   },
   {
    "duration": 36,
    "start_time": "2023-07-28T06:41:32.316Z"
   },
   {
    "duration": 71,
    "start_time": "2023-07-28T06:41:32.354Z"
   },
   {
    "duration": 46,
    "start_time": "2023-07-28T06:41:32.427Z"
   },
   {
    "duration": 35,
    "start_time": "2023-07-28T06:41:32.475Z"
   },
   {
    "duration": 54,
    "start_time": "2023-07-28T06:41:32.511Z"
   },
   {
    "duration": 23,
    "start_time": "2023-07-28T06:41:32.567Z"
   },
   {
    "duration": 20,
    "start_time": "2023-07-28T06:41:32.592Z"
   },
   {
    "duration": 4,
    "start_time": "2023-07-28T06:41:32.615Z"
   },
   {
    "duration": 11,
    "start_time": "2023-07-28T06:41:32.621Z"
   },
   {
    "duration": 26,
    "start_time": "2023-07-28T06:41:32.634Z"
   },
   {
    "duration": 868,
    "start_time": "2023-07-28T06:41:32.662Z"
   },
   {
    "duration": 20,
    "start_time": "2023-07-28T06:41:33.532Z"
   },
   {
    "duration": 25,
    "start_time": "2023-07-28T06:41:33.553Z"
   },
   {
    "duration": 88,
    "start_time": "2023-07-28T06:41:33.579Z"
   },
   {
    "duration": 21,
    "start_time": "2023-07-28T06:41:33.668Z"
   },
   {
    "duration": 41,
    "start_time": "2023-07-28T06:41:33.691Z"
   },
   {
    "duration": 89,
    "start_time": "2023-07-28T06:41:33.733Z"
   },
   {
    "duration": 9,
    "start_time": "2023-07-28T06:41:33.823Z"
   },
   {
    "duration": 21,
    "start_time": "2023-07-28T06:41:33.833Z"
   },
   {
    "duration": 48,
    "start_time": "2023-07-28T06:41:33.855Z"
   },
   {
    "duration": 27,
    "start_time": "2023-07-28T06:41:33.904Z"
   },
   {
    "duration": 473,
    "start_time": "2023-07-28T15:50:06.744Z"
   },
   {
    "duration": 27,
    "start_time": "2023-07-28T15:50:07.219Z"
   },
   {
    "duration": 14,
    "start_time": "2023-07-28T15:50:07.248Z"
   },
   {
    "duration": 9,
    "start_time": "2023-07-28T15:50:07.264Z"
   },
   {
    "duration": 32,
    "start_time": "2023-07-28T15:50:07.275Z"
   },
   {
    "duration": 24,
    "start_time": "2023-07-28T15:50:07.308Z"
   },
   {
    "duration": 19,
    "start_time": "2023-07-28T15:50:07.335Z"
   },
   {
    "duration": 3,
    "start_time": "2023-07-28T15:50:07.356Z"
   },
   {
    "duration": 9,
    "start_time": "2023-07-28T15:50:07.361Z"
   },
   {
    "duration": 7,
    "start_time": "2023-07-28T15:50:07.372Z"
   },
   {
    "duration": 33,
    "start_time": "2023-07-28T15:50:07.380Z"
   },
   {
    "duration": 22,
    "start_time": "2023-07-28T15:50:07.415Z"
   },
   {
    "duration": 22,
    "start_time": "2023-07-28T15:50:07.438Z"
   },
   {
    "duration": 19,
    "start_time": "2023-07-28T15:50:07.463Z"
   },
   {
    "duration": 57,
    "start_time": "2023-07-28T15:50:07.485Z"
   },
   {
    "duration": 19,
    "start_time": "2023-07-28T15:50:07.545Z"
   },
   {
    "duration": 5,
    "start_time": "2023-07-28T15:50:07.566Z"
   },
   {
    "duration": 32,
    "start_time": "2023-07-28T15:50:07.572Z"
   },
   {
    "duration": 15,
    "start_time": "2023-07-28T15:50:07.605Z"
   },
   {
    "duration": 5,
    "start_time": "2023-07-28T15:50:07.621Z"
   },
   {
    "duration": 21,
    "start_time": "2023-07-28T15:50:07.627Z"
   },
   {
    "duration": 8,
    "start_time": "2023-07-28T15:50:07.649Z"
   },
   {
    "duration": 17,
    "start_time": "2023-07-28T15:50:07.659Z"
   },
   {
    "duration": 22,
    "start_time": "2023-07-28T15:50:07.678Z"
   },
   {
    "duration": 47,
    "start_time": "2023-07-28T15:50:07.701Z"
   },
   {
    "duration": 26,
    "start_time": "2023-07-28T15:50:07.750Z"
   },
   {
    "duration": 25,
    "start_time": "2023-07-28T15:50:07.778Z"
   },
   {
    "duration": 59,
    "start_time": "2023-07-28T15:50:07.805Z"
   },
   {
    "duration": 21,
    "start_time": "2023-07-28T15:50:07.865Z"
   },
   {
    "duration": 11,
    "start_time": "2023-07-28T15:50:07.888Z"
   },
   {
    "duration": 964,
    "start_time": "2023-07-28T15:50:07.901Z"
   },
   {
    "duration": 21,
    "start_time": "2023-07-28T15:50:08.867Z"
   },
   {
    "duration": 34,
    "start_time": "2023-07-28T15:50:08.889Z"
   },
   {
    "duration": 81,
    "start_time": "2023-07-28T15:50:08.925Z"
   },
   {
    "duration": 22,
    "start_time": "2023-07-28T15:50:09.008Z"
   },
   {
    "duration": 24,
    "start_time": "2023-07-28T15:50:09.032Z"
   },
   {
    "duration": 112,
    "start_time": "2023-07-28T15:50:09.058Z"
   },
   {
    "duration": 10,
    "start_time": "2023-07-28T15:50:09.172Z"
   },
   {
    "duration": 30,
    "start_time": "2023-07-28T15:50:09.184Z"
   },
   {
    "duration": 38,
    "start_time": "2023-07-28T15:50:09.216Z"
   },
   {
    "duration": 24,
    "start_time": "2023-07-28T15:50:09.257Z"
   }
  ],
  "colab": {
   "provenance": []
  },
  "kernelspec": {
   "display_name": "Python 3 (ipykernel)",
   "language": "python",
   "name": "python3"
  },
  "language_info": {
   "codemirror_mode": {
    "name": "ipython",
    "version": 3
   },
   "file_extension": ".py",
   "mimetype": "text/x-python",
   "name": "python",
   "nbconvert_exporter": "python",
   "pygments_lexer": "ipython3",
   "version": "3.9.5"
  },
  "toc": {
   "base_numbering": 1,
   "nav_menu": {},
   "number_sections": true,
   "sideBar": true,
   "skip_h1_title": true,
   "title_cell": "Table of Contents",
   "title_sidebar": "Contents",
   "toc_cell": false,
   "toc_position": {
    "height": "calc(100% - 180px)",
    "left": "10px",
    "top": "150px",
    "width": "374.391px"
   },
   "toc_section_display": true,
   "toc_window_display": true
  }
 },
 "nbformat": 4,
 "nbformat_minor": 5
}
